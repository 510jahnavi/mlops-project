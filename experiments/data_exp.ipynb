{
  "cells": [
    {
      "cell_type": "markdown",
      "metadata": {
        "id": "7uVDPyHkzzOP"
      },
      "source": [
        "Weather meta data - https://www.worldweatheronline.com/weather-api/api/docs/local-city-town-weather-api.aspx"
      ]
    },
    {
      "cell_type": "code",
      "execution_count": 1,
      "metadata": {
        "id": "m-ut0_fiJzXm"
      },
      "outputs": [],
      "source": [
        "import pandas as pd\n",
        "import numpy as np\n",
        "import seaborn as sns\n",
        "import matplotlib.pyplot as plt"
      ]
    },
    {
      "cell_type": "code",
      "execution_count": 2,
      "metadata": {
        "colab": {
          "base_uri": "https://localhost:8080/"
        },
        "id": "eXal8bGZKDQi",
        "outputId": "7677238b-6b31-4b5c-b255-0ebdafb108b7"
      },
      "outputs": [
        {
          "name": "stderr",
          "output_type": "stream",
          "text": [
            "/var/folders/sl/p2bldhbn72jg5x6t45zg0_wm0000gn/T/ipykernel_44298/1930319449.py:1: DtypeWarning: Columns (26) have mixed types. Specify dtype option on import or set low_memory=False.\n",
            "  df_all = pd.read_csv(r\"/Users/amoghagadde/Desktop/Amogha/Northeastern/SEM_3/ML_Ops/Project/mlops-project/dataset/data/all_merged_zones_weather_demand_data.csv\")\n"
          ]
        }
      ],
      "source": [
        "df_all = pd.read_csv(r\"/Users/amoghagadde/Desktop/Amogha/Northeastern/SEM_3/ML_Ops/Project/mlops-project/dataset/data/all_merged_zones_weather_demand_data.csv\")"
      ]
    },
    {
      "cell_type": "code",
      "execution_count": 3,
      "metadata": {
        "colab": {
          "base_uri": "https://localhost:8080/",
          "height": 406
        },
        "id": "5NkUBHBaKJv1",
        "outputId": "8634e8e6-77c6-4ee4-e0d2-992790ccd758"
      },
      "outputs": [
        {
          "data": {
            "text/html": [
              "<div>\n",
              "<style scoped>\n",
              "    .dataframe tbody tr th:only-of-type {\n",
              "        vertical-align: middle;\n",
              "    }\n",
              "\n",
              "    .dataframe tbody tr th {\n",
              "        vertical-align: top;\n",
              "    }\n",
              "\n",
              "    .dataframe thead th {\n",
              "        text-align: right;\n",
              "    }\n",
              "</style>\n",
              "<table border=\"1\" class=\"dataframe\">\n",
              "  <thead>\n",
              "    <tr style=\"text-align: right;\">\n",
              "      <th></th>\n",
              "      <th>datetime</th>\n",
              "      <th>tempF</th>\n",
              "      <th>windspeedMiles</th>\n",
              "      <th>weatherCode</th>\n",
              "      <th>precipMM</th>\n",
              "      <th>precipInches</th>\n",
              "      <th>humidity</th>\n",
              "      <th>visibility</th>\n",
              "      <th>visibilityMiles</th>\n",
              "      <th>pressure</th>\n",
              "      <th>...</th>\n",
              "      <th>WindChillF</th>\n",
              "      <th>WindGustMiles</th>\n",
              "      <th>WindGustKmph</th>\n",
              "      <th>FeelsLikeC</th>\n",
              "      <th>FeelsLikeF</th>\n",
              "      <th>uvIndex</th>\n",
              "      <th>subba-name</th>\n",
              "      <th>value</th>\n",
              "      <th>value-units</th>\n",
              "      <th>zone</th>\n",
              "    </tr>\n",
              "  </thead>\n",
              "  <tbody>\n",
              "    <tr>\n",
              "      <th>0</th>\n",
              "      <td>2019-06-05T17</td>\n",
              "      <td>82</td>\n",
              "      <td>12</td>\n",
              "      <td>176</td>\n",
              "      <td>0.3</td>\n",
              "      <td>0.0</td>\n",
              "      <td>81</td>\n",
              "      <td>9</td>\n",
              "      <td>5</td>\n",
              "      <td>1008</td>\n",
              "      <td>...</td>\n",
              "      <td>82</td>\n",
              "      <td>23</td>\n",
              "      <td>36</td>\n",
              "      <td>32</td>\n",
              "      <td>90</td>\n",
              "      <td>6</td>\n",
              "      <td>ERCO - Coast</td>\n",
              "      <td>13395</td>\n",
              "      <td>megawatthours</td>\n",
              "      <td>COAS</td>\n",
              "    </tr>\n",
              "    <tr>\n",
              "      <th>1</th>\n",
              "      <td>2019-06-05T17</td>\n",
              "      <td>85</td>\n",
              "      <td>6</td>\n",
              "      <td>113</td>\n",
              "      <td>0.0</td>\n",
              "      <td>0.0</td>\n",
              "      <td>25</td>\n",
              "      <td>10</td>\n",
              "      <td>6</td>\n",
              "      <td>1008</td>\n",
              "      <td>...</td>\n",
              "      <td>85</td>\n",
              "      <td>9</td>\n",
              "      <td>14</td>\n",
              "      <td>29</td>\n",
              "      <td>84</td>\n",
              "      <td>7</td>\n",
              "      <td>ERCO - Far West</td>\n",
              "      <td>3442</td>\n",
              "      <td>megawatthours</td>\n",
              "      <td>FWES</td>\n",
              "    </tr>\n",
              "    <tr>\n",
              "      <th>2</th>\n",
              "      <td>2019-06-05T17</td>\n",
              "      <td>81</td>\n",
              "      <td>11</td>\n",
              "      <td>356</td>\n",
              "      <td>5.8</td>\n",
              "      <td>0.2</td>\n",
              "      <td>65</td>\n",
              "      <td>10</td>\n",
              "      <td>6</td>\n",
              "      <td>1009</td>\n",
              "      <td>...</td>\n",
              "      <td>81</td>\n",
              "      <td>17</td>\n",
              "      <td>28</td>\n",
              "      <td>30</td>\n",
              "      <td>85</td>\n",
              "      <td>6</td>\n",
              "      <td>ERCO - North Central</td>\n",
              "      <td>14665</td>\n",
              "      <td>megawatthours</td>\n",
              "      <td>NCEN</td>\n",
              "    </tr>\n",
              "    <tr>\n",
              "      <th>3</th>\n",
              "      <td>2019-06-05T17</td>\n",
              "      <td>84</td>\n",
              "      <td>6</td>\n",
              "      <td>116</td>\n",
              "      <td>0.0</td>\n",
              "      <td>0.0</td>\n",
              "      <td>62</td>\n",
              "      <td>10</td>\n",
              "      <td>6</td>\n",
              "      <td>1008</td>\n",
              "      <td>...</td>\n",
              "      <td>84</td>\n",
              "      <td>13</td>\n",
              "      <td>20</td>\n",
              "      <td>31</td>\n",
              "      <td>89</td>\n",
              "      <td>7</td>\n",
              "      <td>ERCO - North</td>\n",
              "      <td>1175</td>\n",
              "      <td>megawatthours</td>\n",
              "      <td>NRTH</td>\n",
              "    </tr>\n",
              "    <tr>\n",
              "      <th>4</th>\n",
              "      <td>2019-06-05T17</td>\n",
              "      <td>84</td>\n",
              "      <td>4</td>\n",
              "      <td>116</td>\n",
              "      <td>0.0</td>\n",
              "      <td>0.0</td>\n",
              "      <td>68</td>\n",
              "      <td>9</td>\n",
              "      <td>5</td>\n",
              "      <td>1008</td>\n",
              "      <td>...</td>\n",
              "      <td>84</td>\n",
              "      <td>10</td>\n",
              "      <td>16</td>\n",
              "      <td>33</td>\n",
              "      <td>91</td>\n",
              "      <td>7</td>\n",
              "      <td>ERCO - South Central</td>\n",
              "      <td>7760</td>\n",
              "      <td>megawatthours</td>\n",
              "      <td>SCEN</td>\n",
              "    </tr>\n",
              "  </tbody>\n",
              "</table>\n",
              "<p>5 rows × 27 columns</p>\n",
              "</div>"
            ],
            "text/plain": [
              "        datetime  tempF  windspeedMiles  weatherCode  precipMM  precipInches  \\\n",
              "0  2019-06-05T17     82              12          176       0.3           0.0   \n",
              "1  2019-06-05T17     85               6          113       0.0           0.0   \n",
              "2  2019-06-05T17     81              11          356       5.8           0.2   \n",
              "3  2019-06-05T17     84               6          116       0.0           0.0   \n",
              "4  2019-06-05T17     84               4          116       0.0           0.0   \n",
              "\n",
              "   humidity  visibility  visibilityMiles  pressure  ...  WindChillF  \\\n",
              "0        81           9                5      1008  ...          82   \n",
              "1        25          10                6      1008  ...          85   \n",
              "2        65          10                6      1009  ...          81   \n",
              "3        62          10                6      1008  ...          84   \n",
              "4        68           9                5      1008  ...          84   \n",
              "\n",
              "   WindGustMiles  WindGustKmph  FeelsLikeC  FeelsLikeF  uvIndex  \\\n",
              "0             23            36          32          90        6   \n",
              "1              9            14          29          84        7   \n",
              "2             17            28          30          85        6   \n",
              "3             13            20          31          89        7   \n",
              "4             10            16          33          91        7   \n",
              "\n",
              "             subba-name  value    value-units  zone  \n",
              "0          ERCO - Coast  13395  megawatthours  COAS  \n",
              "1       ERCO - Far West   3442  megawatthours  FWES  \n",
              "2  ERCO - North Central  14665  megawatthours  NCEN  \n",
              "3          ERCO - North   1175  megawatthours  NRTH  \n",
              "4  ERCO - South Central   7760  megawatthours  SCEN  \n",
              "\n",
              "[5 rows x 27 columns]"
            ]
          },
          "execution_count": 3,
          "metadata": {},
          "output_type": "execute_result"
        }
      ],
      "source": [
        "df_all.head(5)"
      ]
    },
    {
      "cell_type": "code",
      "execution_count": 4,
      "metadata": {
        "colab": {
          "base_uri": "https://localhost:8080/",
          "height": 35
        },
        "id": "wJDMQ1UlnWhk",
        "outputId": "aaab2246-a5ec-402f-9895-fe195e4ca47a"
      },
      "outputs": [
        {
          "data": {
            "text/plain": [
              "'2023-12-31T00'"
            ]
          },
          "execution_count": 4,
          "metadata": {},
          "output_type": "execute_result"
        }
      ],
      "source": [
        "max(df_all['datetime'])"
      ]
    },
    {
      "cell_type": "code",
      "execution_count": 5,
      "metadata": {
        "colab": {
          "base_uri": "https://localhost:8080/",
          "height": 35
        },
        "id": "UgXL405NndAQ",
        "outputId": "56c4f0e2-4d69-4b5b-a7ff-7a1f22105694"
      },
      "outputs": [
        {
          "data": {
            "text/plain": [
              "'2019-06-05T17'"
            ]
          },
          "execution_count": 5,
          "metadata": {},
          "output_type": "execute_result"
        }
      ],
      "source": [
        "min(df_all['datetime'])"
      ]
    },
    {
      "cell_type": "markdown",
      "metadata": {
        "id": "-NJwvslNnhX2"
      },
      "source": [
        "So data is existing from June 5th,2019 (5:00pm) to Dec 31st,2023 (12:00 am)"
      ]
    },
    {
      "cell_type": "code",
      "execution_count": 6,
      "metadata": {},
      "outputs": [],
      "source": [
        "df = df_all[df_all['datetime'] < '2019-12-31T23']"
      ]
    },
    {
      "cell_type": "code",
      "execution_count": 7,
      "metadata": {},
      "outputs": [
        {
          "data": {
            "text/html": [
              "<div>\n",
              "<style scoped>\n",
              "    .dataframe tbody tr th:only-of-type {\n",
              "        vertical-align: middle;\n",
              "    }\n",
              "\n",
              "    .dataframe tbody tr th {\n",
              "        vertical-align: top;\n",
              "    }\n",
              "\n",
              "    .dataframe thead th {\n",
              "        text-align: right;\n",
              "    }\n",
              "</style>\n",
              "<table border=\"1\" class=\"dataframe\">\n",
              "  <thead>\n",
              "    <tr style=\"text-align: right;\">\n",
              "      <th></th>\n",
              "      <th>datetime</th>\n",
              "      <th>tempF</th>\n",
              "      <th>windspeedMiles</th>\n",
              "      <th>weatherCode</th>\n",
              "      <th>precipMM</th>\n",
              "      <th>precipInches</th>\n",
              "      <th>humidity</th>\n",
              "      <th>visibility</th>\n",
              "      <th>visibilityMiles</th>\n",
              "      <th>pressure</th>\n",
              "      <th>...</th>\n",
              "      <th>WindChillF</th>\n",
              "      <th>WindGustMiles</th>\n",
              "      <th>WindGustKmph</th>\n",
              "      <th>FeelsLikeC</th>\n",
              "      <th>FeelsLikeF</th>\n",
              "      <th>uvIndex</th>\n",
              "      <th>subba-name</th>\n",
              "      <th>value</th>\n",
              "      <th>value-units</th>\n",
              "      <th>zone</th>\n",
              "    </tr>\n",
              "  </thead>\n",
              "  <tbody>\n",
              "    <tr>\n",
              "      <th>0</th>\n",
              "      <td>2019-06-05T17</td>\n",
              "      <td>82</td>\n",
              "      <td>12</td>\n",
              "      <td>176</td>\n",
              "      <td>0.3</td>\n",
              "      <td>0.0</td>\n",
              "      <td>81</td>\n",
              "      <td>9</td>\n",
              "      <td>5</td>\n",
              "      <td>1008</td>\n",
              "      <td>...</td>\n",
              "      <td>82</td>\n",
              "      <td>23</td>\n",
              "      <td>36</td>\n",
              "      <td>32</td>\n",
              "      <td>90</td>\n",
              "      <td>6</td>\n",
              "      <td>ERCO - Coast</td>\n",
              "      <td>13395</td>\n",
              "      <td>megawatthours</td>\n",
              "      <td>COAS</td>\n",
              "    </tr>\n",
              "    <tr>\n",
              "      <th>1</th>\n",
              "      <td>2019-06-05T17</td>\n",
              "      <td>85</td>\n",
              "      <td>6</td>\n",
              "      <td>113</td>\n",
              "      <td>0.0</td>\n",
              "      <td>0.0</td>\n",
              "      <td>25</td>\n",
              "      <td>10</td>\n",
              "      <td>6</td>\n",
              "      <td>1008</td>\n",
              "      <td>...</td>\n",
              "      <td>85</td>\n",
              "      <td>9</td>\n",
              "      <td>14</td>\n",
              "      <td>29</td>\n",
              "      <td>84</td>\n",
              "      <td>7</td>\n",
              "      <td>ERCO - Far West</td>\n",
              "      <td>3442</td>\n",
              "      <td>megawatthours</td>\n",
              "      <td>FWES</td>\n",
              "    </tr>\n",
              "    <tr>\n",
              "      <th>2</th>\n",
              "      <td>2019-06-05T17</td>\n",
              "      <td>81</td>\n",
              "      <td>11</td>\n",
              "      <td>356</td>\n",
              "      <td>5.8</td>\n",
              "      <td>0.2</td>\n",
              "      <td>65</td>\n",
              "      <td>10</td>\n",
              "      <td>6</td>\n",
              "      <td>1009</td>\n",
              "      <td>...</td>\n",
              "      <td>81</td>\n",
              "      <td>17</td>\n",
              "      <td>28</td>\n",
              "      <td>30</td>\n",
              "      <td>85</td>\n",
              "      <td>6</td>\n",
              "      <td>ERCO - North Central</td>\n",
              "      <td>14665</td>\n",
              "      <td>megawatthours</td>\n",
              "      <td>NCEN</td>\n",
              "    </tr>\n",
              "    <tr>\n",
              "      <th>3</th>\n",
              "      <td>2019-06-05T17</td>\n",
              "      <td>84</td>\n",
              "      <td>6</td>\n",
              "      <td>116</td>\n",
              "      <td>0.0</td>\n",
              "      <td>0.0</td>\n",
              "      <td>62</td>\n",
              "      <td>10</td>\n",
              "      <td>6</td>\n",
              "      <td>1008</td>\n",
              "      <td>...</td>\n",
              "      <td>84</td>\n",
              "      <td>13</td>\n",
              "      <td>20</td>\n",
              "      <td>31</td>\n",
              "      <td>89</td>\n",
              "      <td>7</td>\n",
              "      <td>ERCO - North</td>\n",
              "      <td>1175</td>\n",
              "      <td>megawatthours</td>\n",
              "      <td>NRTH</td>\n",
              "    </tr>\n",
              "    <tr>\n",
              "      <th>4</th>\n",
              "      <td>2019-06-05T17</td>\n",
              "      <td>84</td>\n",
              "      <td>4</td>\n",
              "      <td>116</td>\n",
              "      <td>0.0</td>\n",
              "      <td>0.0</td>\n",
              "      <td>68</td>\n",
              "      <td>9</td>\n",
              "      <td>5</td>\n",
              "      <td>1008</td>\n",
              "      <td>...</td>\n",
              "      <td>84</td>\n",
              "      <td>10</td>\n",
              "      <td>16</td>\n",
              "      <td>33</td>\n",
              "      <td>91</td>\n",
              "      <td>7</td>\n",
              "      <td>ERCO - South Central</td>\n",
              "      <td>7760</td>\n",
              "      <td>megawatthours</td>\n",
              "      <td>SCEN</td>\n",
              "    </tr>\n",
              "  </tbody>\n",
              "</table>\n",
              "<p>5 rows × 27 columns</p>\n",
              "</div>"
            ],
            "text/plain": [
              "        datetime  tempF  windspeedMiles  weatherCode  precipMM  precipInches  \\\n",
              "0  2019-06-05T17     82              12          176       0.3           0.0   \n",
              "1  2019-06-05T17     85               6          113       0.0           0.0   \n",
              "2  2019-06-05T17     81              11          356       5.8           0.2   \n",
              "3  2019-06-05T17     84               6          116       0.0           0.0   \n",
              "4  2019-06-05T17     84               4          116       0.0           0.0   \n",
              "\n",
              "   humidity  visibility  visibilityMiles  pressure  ...  WindChillF  \\\n",
              "0        81           9                5      1008  ...          82   \n",
              "1        25          10                6      1008  ...          85   \n",
              "2        65          10                6      1009  ...          81   \n",
              "3        62          10                6      1008  ...          84   \n",
              "4        68           9                5      1008  ...          84   \n",
              "\n",
              "   WindGustMiles  WindGustKmph  FeelsLikeC  FeelsLikeF  uvIndex  \\\n",
              "0             23            36          32          90        6   \n",
              "1              9            14          29          84        7   \n",
              "2             17            28          30          85        6   \n",
              "3             13            20          31          89        7   \n",
              "4             10            16          33          91        7   \n",
              "\n",
              "             subba-name  value    value-units  zone  \n",
              "0          ERCO - Coast  13395  megawatthours  COAS  \n",
              "1       ERCO - Far West   3442  megawatthours  FWES  \n",
              "2  ERCO - North Central  14665  megawatthours  NCEN  \n",
              "3          ERCO - North   1175  megawatthours  NRTH  \n",
              "4  ERCO - South Central   7760  megawatthours  SCEN  \n",
              "\n",
              "[5 rows x 27 columns]"
            ]
          },
          "execution_count": 7,
          "metadata": {},
          "output_type": "execute_result"
        }
      ],
      "source": [
        "df.head()"
      ]
    },
    {
      "cell_type": "code",
      "execution_count": 8,
      "metadata": {},
      "outputs": [
        {
          "data": {
            "text/plain": [
              "'2019-12-31T00'"
            ]
          },
          "execution_count": 8,
          "metadata": {},
          "output_type": "execute_result"
        }
      ],
      "source": [
        "max(df['datetime'])"
      ]
    },
    {
      "cell_type": "code",
      "execution_count": 9,
      "metadata": {},
      "outputs": [
        {
          "data": {
            "text/plain": [
              "'2019-06-05T17'"
            ]
          },
          "execution_count": 9,
          "metadata": {},
          "output_type": "execute_result"
        }
      ],
      "source": [
        "min(df['datetime'])"
      ]
    },
    {
      "cell_type": "code",
      "execution_count": 10,
      "metadata": {},
      "outputs": [
        {
          "data": {
            "text/plain": [
              "(80000, 27)"
            ]
          },
          "execution_count": 10,
          "metadata": {},
          "output_type": "execute_result"
        }
      ],
      "source": [
        "df.shape"
      ]
    },
    {
      "cell_type": "markdown",
      "metadata": {},
      "source": [
        "Taking up six months data from 2019-06-05 to 2019-12-31"
      ]
    },
    {
      "cell_type": "markdown",
      "metadata": {
        "id": "J5XB5-VGL_dU"
      },
      "source": [
        "# Data Inspection"
      ]
    },
    {
      "cell_type": "code",
      "execution_count": 11,
      "metadata": {
        "colab": {
          "base_uri": "https://localhost:8080/",
          "height": 490
        },
        "id": "BobhRTafKh9v",
        "outputId": "bc076053-e166-4edc-87a9-30f0b5f01a37"
      },
      "outputs": [
        {
          "data": {
            "text/html": [
              "<div>\n",
              "<style scoped>\n",
              "    .dataframe tbody tr th:only-of-type {\n",
              "        vertical-align: middle;\n",
              "    }\n",
              "\n",
              "    .dataframe tbody tr th {\n",
              "        vertical-align: top;\n",
              "    }\n",
              "\n",
              "    .dataframe thead th {\n",
              "        text-align: right;\n",
              "    }\n",
              "</style>\n",
              "<table border=\"1\" class=\"dataframe\">\n",
              "  <thead>\n",
              "    <tr style=\"text-align: right;\">\n",
              "      <th></th>\n",
              "      <th>datetime</th>\n",
              "      <th>tempF</th>\n",
              "      <th>windspeedMiles</th>\n",
              "      <th>weatherCode</th>\n",
              "      <th>precipMM</th>\n",
              "      <th>precipInches</th>\n",
              "      <th>humidity</th>\n",
              "      <th>visibility</th>\n",
              "      <th>visibilityMiles</th>\n",
              "      <th>pressure</th>\n",
              "      <th>...</th>\n",
              "      <th>WindChillF</th>\n",
              "      <th>WindGustMiles</th>\n",
              "      <th>WindGustKmph</th>\n",
              "      <th>FeelsLikeC</th>\n",
              "      <th>FeelsLikeF</th>\n",
              "      <th>uvIndex</th>\n",
              "      <th>subba-name</th>\n",
              "      <th>value</th>\n",
              "      <th>value-units</th>\n",
              "      <th>zone</th>\n",
              "    </tr>\n",
              "  </thead>\n",
              "  <tbody>\n",
              "    <tr>\n",
              "      <th>count</th>\n",
              "      <td>80000</td>\n",
              "      <td>80000.000000</td>\n",
              "      <td>80000.000000</td>\n",
              "      <td>80000.000000</td>\n",
              "      <td>80000.000000</td>\n",
              "      <td>80000.000000</td>\n",
              "      <td>80000.000000</td>\n",
              "      <td>80000.000000</td>\n",
              "      <td>80000.000000</td>\n",
              "      <td>80000.000000</td>\n",
              "      <td>...</td>\n",
              "      <td>80000.000000</td>\n",
              "      <td>80000.000000</td>\n",
              "      <td>80000.000000</td>\n",
              "      <td>80000.000000</td>\n",
              "      <td>80000.000000</td>\n",
              "      <td>80000.000000</td>\n",
              "      <td>80000</td>\n",
              "      <td>80000.000000</td>\n",
              "      <td>80000</td>\n",
              "      <td>80000</td>\n",
              "    </tr>\n",
              "    <tr>\n",
              "      <th>unique</th>\n",
              "      <td>5000</td>\n",
              "      <td>NaN</td>\n",
              "      <td>NaN</td>\n",
              "      <td>NaN</td>\n",
              "      <td>NaN</td>\n",
              "      <td>NaN</td>\n",
              "      <td>NaN</td>\n",
              "      <td>NaN</td>\n",
              "      <td>NaN</td>\n",
              "      <td>NaN</td>\n",
              "      <td>...</td>\n",
              "      <td>NaN</td>\n",
              "      <td>NaN</td>\n",
              "      <td>NaN</td>\n",
              "      <td>NaN</td>\n",
              "      <td>NaN</td>\n",
              "      <td>NaN</td>\n",
              "      <td>16</td>\n",
              "      <td>NaN</td>\n",
              "      <td>1</td>\n",
              "      <td>22</td>\n",
              "    </tr>\n",
              "    <tr>\n",
              "      <th>top</th>\n",
              "      <td>2019-06-05T17</td>\n",
              "      <td>NaN</td>\n",
              "      <td>NaN</td>\n",
              "      <td>NaN</td>\n",
              "      <td>NaN</td>\n",
              "      <td>NaN</td>\n",
              "      <td>NaN</td>\n",
              "      <td>NaN</td>\n",
              "      <td>NaN</td>\n",
              "      <td>NaN</td>\n",
              "      <td>...</td>\n",
              "      <td>NaN</td>\n",
              "      <td>NaN</td>\n",
              "      <td>NaN</td>\n",
              "      <td>NaN</td>\n",
              "      <td>NaN</td>\n",
              "      <td>NaN</td>\n",
              "      <td>ERCO - Coast</td>\n",
              "      <td>NaN</td>\n",
              "      <td>megawatthours</td>\n",
              "      <td>COAS</td>\n",
              "    </tr>\n",
              "    <tr>\n",
              "      <th>freq</th>\n",
              "      <td>16</td>\n",
              "      <td>NaN</td>\n",
              "      <td>NaN</td>\n",
              "      <td>NaN</td>\n",
              "      <td>NaN</td>\n",
              "      <td>NaN</td>\n",
              "      <td>NaN</td>\n",
              "      <td>NaN</td>\n",
              "      <td>NaN</td>\n",
              "      <td>NaN</td>\n",
              "      <td>...</td>\n",
              "      <td>NaN</td>\n",
              "      <td>NaN</td>\n",
              "      <td>NaN</td>\n",
              "      <td>NaN</td>\n",
              "      <td>NaN</td>\n",
              "      <td>NaN</td>\n",
              "      <td>5000</td>\n",
              "      <td>NaN</td>\n",
              "      <td>80000</td>\n",
              "      <td>5000</td>\n",
              "    </tr>\n",
              "    <tr>\n",
              "      <th>mean</th>\n",
              "      <td>NaN</td>\n",
              "      <td>64.927375</td>\n",
              "      <td>8.311725</td>\n",
              "      <td>132.404112</td>\n",
              "      <td>0.127963</td>\n",
              "      <td>0.004053</td>\n",
              "      <td>68.313587</td>\n",
              "      <td>9.260275</td>\n",
              "      <td>5.470600</td>\n",
              "      <td>1015.646287</td>\n",
              "      <td>...</td>\n",
              "      <td>63.443050</td>\n",
              "      <td>14.247388</td>\n",
              "      <td>22.931787</td>\n",
              "      <td>18.399538</td>\n",
              "      <td>65.107150</td>\n",
              "      <td>3.135288</td>\n",
              "      <td>NaN</td>\n",
              "      <td>3790.310575</td>\n",
              "      <td>NaN</td>\n",
              "      <td>NaN</td>\n",
              "    </tr>\n",
              "    <tr>\n",
              "      <th>std</th>\n",
              "      <td>NaN</td>\n",
              "      <td>18.474344</td>\n",
              "      <td>4.198711</td>\n",
              "      <td>55.289259</td>\n",
              "      <td>0.600532</td>\n",
              "      <td>0.024856</td>\n",
              "      <td>18.730514</td>\n",
              "      <td>1.833787</td>\n",
              "      <td>1.214919</td>\n",
              "      <td>6.947493</td>\n",
              "      <td>...</td>\n",
              "      <td>20.708827</td>\n",
              "      <td>6.471633</td>\n",
              "      <td>10.411931</td>\n",
              "      <td>12.439250</td>\n",
              "      <td>22.386876</td>\n",
              "      <td>2.620958</td>\n",
              "      <td>NaN</td>\n",
              "      <td>4368.854495</td>\n",
              "      <td>NaN</td>\n",
              "      <td>NaN</td>\n",
              "    </tr>\n",
              "    <tr>\n",
              "      <th>min</th>\n",
              "      <td>NaN</td>\n",
              "      <td>-1.000000</td>\n",
              "      <td>0.000000</td>\n",
              "      <td>113.000000</td>\n",
              "      <td>0.000000</td>\n",
              "      <td>0.000000</td>\n",
              "      <td>8.000000</td>\n",
              "      <td>0.000000</td>\n",
              "      <td>0.000000</td>\n",
              "      <td>976.000000</td>\n",
              "      <td>...</td>\n",
              "      <td>-19.000000</td>\n",
              "      <td>1.000000</td>\n",
              "      <td>1.000000</td>\n",
              "      <td>-28.000000</td>\n",
              "      <td>-19.000000</td>\n",
              "      <td>1.000000</td>\n",
              "      <td>NaN</td>\n",
              "      <td>280.000000</td>\n",
              "      <td>NaN</td>\n",
              "      <td>NaN</td>\n",
              "    </tr>\n",
              "    <tr>\n",
              "      <th>25%</th>\n",
              "      <td>NaN</td>\n",
              "      <td>52.000000</td>\n",
              "      <td>5.000000</td>\n",
              "      <td>113.000000</td>\n",
              "      <td>0.000000</td>\n",
              "      <td>0.000000</td>\n",
              "      <td>55.000000</td>\n",
              "      <td>10.000000</td>\n",
              "      <td>6.000000</td>\n",
              "      <td>1011.000000</td>\n",
              "      <td>...</td>\n",
              "      <td>50.000000</td>\n",
              "      <td>9.000000</td>\n",
              "      <td>15.000000</td>\n",
              "      <td>10.000000</td>\n",
              "      <td>50.000000</td>\n",
              "      <td>1.000000</td>\n",
              "      <td>NaN</td>\n",
              "      <td>1263.000000</td>\n",
              "      <td>NaN</td>\n",
              "      <td>NaN</td>\n",
              "    </tr>\n",
              "    <tr>\n",
              "      <th>50%</th>\n",
              "      <td>NaN</td>\n",
              "      <td>67.000000</td>\n",
              "      <td>8.000000</td>\n",
              "      <td>113.000000</td>\n",
              "      <td>0.000000</td>\n",
              "      <td>0.000000</td>\n",
              "      <td>70.000000</td>\n",
              "      <td>10.000000</td>\n",
              "      <td>6.000000</td>\n",
              "      <td>1015.000000</td>\n",
              "      <td>...</td>\n",
              "      <td>67.000000</td>\n",
              "      <td>13.000000</td>\n",
              "      <td>22.000000</td>\n",
              "      <td>20.000000</td>\n",
              "      <td>67.000000</td>\n",
              "      <td>1.000000</td>\n",
              "      <td>NaN</td>\n",
              "      <td>1898.000000</td>\n",
              "      <td>NaN</td>\n",
              "      <td>NaN</td>\n",
              "    </tr>\n",
              "    <tr>\n",
              "      <th>75%</th>\n",
              "      <td>NaN</td>\n",
              "      <td>79.000000</td>\n",
              "      <td>11.000000</td>\n",
              "      <td>116.000000</td>\n",
              "      <td>0.000000</td>\n",
              "      <td>0.000000</td>\n",
              "      <td>84.000000</td>\n",
              "      <td>10.000000</td>\n",
              "      <td>6.000000</td>\n",
              "      <td>1020.000000</td>\n",
              "      <td>...</td>\n",
              "      <td>79.000000</td>\n",
              "      <td>18.000000</td>\n",
              "      <td>29.000000</td>\n",
              "      <td>28.000000</td>\n",
              "      <td>83.000000</td>\n",
              "      <td>6.000000</td>\n",
              "      <td>NaN</td>\n",
              "      <td>3770.250000</td>\n",
              "      <td>NaN</td>\n",
              "      <td>NaN</td>\n",
              "    </tr>\n",
              "    <tr>\n",
              "      <th>max</th>\n",
              "      <td>NaN</td>\n",
              "      <td>108.000000</td>\n",
              "      <td>31.000000</td>\n",
              "      <td>371.000000</td>\n",
              "      <td>17.600000</td>\n",
              "      <td>0.700000</td>\n",
              "      <td>100.000000</td>\n",
              "      <td>10.000000</td>\n",
              "      <td>6.000000</td>\n",
              "      <td>1042.000000</td>\n",
              "      <td>...</td>\n",
              "      <td>108.000000</td>\n",
              "      <td>61.000000</td>\n",
              "      <td>99.000000</td>\n",
              "      <td>46.000000</td>\n",
              "      <td>115.000000</td>\n",
              "      <td>10.000000</td>\n",
              "      <td>NaN</td>\n",
              "      <td>25307.000000</td>\n",
              "      <td>NaN</td>\n",
              "      <td>NaN</td>\n",
              "    </tr>\n",
              "  </tbody>\n",
              "</table>\n",
              "<p>11 rows × 27 columns</p>\n",
              "</div>"
            ],
            "text/plain": [
              "             datetime         tempF  windspeedMiles   weatherCode  \\\n",
              "count           80000  80000.000000    80000.000000  80000.000000   \n",
              "unique           5000           NaN             NaN           NaN   \n",
              "top     2019-06-05T17           NaN             NaN           NaN   \n",
              "freq               16           NaN             NaN           NaN   \n",
              "mean              NaN     64.927375        8.311725    132.404112   \n",
              "std               NaN     18.474344        4.198711     55.289259   \n",
              "min               NaN     -1.000000        0.000000    113.000000   \n",
              "25%               NaN     52.000000        5.000000    113.000000   \n",
              "50%               NaN     67.000000        8.000000    113.000000   \n",
              "75%               NaN     79.000000       11.000000    116.000000   \n",
              "max               NaN    108.000000       31.000000    371.000000   \n",
              "\n",
              "            precipMM  precipInches      humidity    visibility  \\\n",
              "count   80000.000000  80000.000000  80000.000000  80000.000000   \n",
              "unique           NaN           NaN           NaN           NaN   \n",
              "top              NaN           NaN           NaN           NaN   \n",
              "freq             NaN           NaN           NaN           NaN   \n",
              "mean        0.127963      0.004053     68.313587      9.260275   \n",
              "std         0.600532      0.024856     18.730514      1.833787   \n",
              "min         0.000000      0.000000      8.000000      0.000000   \n",
              "25%         0.000000      0.000000     55.000000     10.000000   \n",
              "50%         0.000000      0.000000     70.000000     10.000000   \n",
              "75%         0.000000      0.000000     84.000000     10.000000   \n",
              "max        17.600000      0.700000    100.000000     10.000000   \n",
              "\n",
              "        visibilityMiles      pressure  ...    WindChillF  WindGustMiles  \\\n",
              "count      80000.000000  80000.000000  ...  80000.000000   80000.000000   \n",
              "unique              NaN           NaN  ...           NaN            NaN   \n",
              "top                 NaN           NaN  ...           NaN            NaN   \n",
              "freq                NaN           NaN  ...           NaN            NaN   \n",
              "mean           5.470600   1015.646287  ...     63.443050      14.247388   \n",
              "std            1.214919      6.947493  ...     20.708827       6.471633   \n",
              "min            0.000000    976.000000  ...    -19.000000       1.000000   \n",
              "25%            6.000000   1011.000000  ...     50.000000       9.000000   \n",
              "50%            6.000000   1015.000000  ...     67.000000      13.000000   \n",
              "75%            6.000000   1020.000000  ...     79.000000      18.000000   \n",
              "max            6.000000   1042.000000  ...    108.000000      61.000000   \n",
              "\n",
              "        WindGustKmph    FeelsLikeC    FeelsLikeF       uvIndex    subba-name  \\\n",
              "count   80000.000000  80000.000000  80000.000000  80000.000000         80000   \n",
              "unique           NaN           NaN           NaN           NaN            16   \n",
              "top              NaN           NaN           NaN           NaN  ERCO - Coast   \n",
              "freq             NaN           NaN           NaN           NaN          5000   \n",
              "mean       22.931787     18.399538     65.107150      3.135288           NaN   \n",
              "std        10.411931     12.439250     22.386876      2.620958           NaN   \n",
              "min         1.000000    -28.000000    -19.000000      1.000000           NaN   \n",
              "25%        15.000000     10.000000     50.000000      1.000000           NaN   \n",
              "50%        22.000000     20.000000     67.000000      1.000000           NaN   \n",
              "75%        29.000000     28.000000     83.000000      6.000000           NaN   \n",
              "max        99.000000     46.000000    115.000000     10.000000           NaN   \n",
              "\n",
              "               value    value-units   zone  \n",
              "count   80000.000000          80000  80000  \n",
              "unique           NaN              1     22  \n",
              "top              NaN  megawatthours   COAS  \n",
              "freq             NaN          80000   5000  \n",
              "mean     3790.310575            NaN    NaN  \n",
              "std      4368.854495            NaN    NaN  \n",
              "min       280.000000            NaN    NaN  \n",
              "25%      1263.000000            NaN    NaN  \n",
              "50%      1898.000000            NaN    NaN  \n",
              "75%      3770.250000            NaN    NaN  \n",
              "max     25307.000000            NaN    NaN  \n",
              "\n",
              "[11 rows x 27 columns]"
            ]
          },
          "execution_count": 11,
          "metadata": {},
          "output_type": "execute_result"
        }
      ],
      "source": [
        "df.describe(include='all')"
      ]
    },
    {
      "cell_type": "code",
      "execution_count": 12,
      "metadata": {
        "colab": {
          "base_uri": "https://localhost:8080/",
          "height": 920
        },
        "id": "Bkf8RhZWKw1j",
        "outputId": "2cb1a058-f8ff-40dd-f578-283c16579b90"
      },
      "outputs": [
        {
          "data": {
            "text/plain": [
              "datetime            object\n",
              "tempF                int64\n",
              "windspeedMiles       int64\n",
              "weatherCode          int64\n",
              "precipMM           float64\n",
              "precipInches       float64\n",
              "humidity             int64\n",
              "visibility           int64\n",
              "visibilityMiles      int64\n",
              "pressure             int64\n",
              "pressureInches       int64\n",
              "cloudcover           int64\n",
              "HeatIndexC           int64\n",
              "HeatIndexF           int64\n",
              "DewPointC            int64\n",
              "DewPointF            int64\n",
              "WindChillC           int64\n",
              "WindChillF           int64\n",
              "WindGustMiles        int64\n",
              "WindGustKmph         int64\n",
              "FeelsLikeC           int64\n",
              "FeelsLikeF           int64\n",
              "uvIndex              int64\n",
              "subba-name          object\n",
              "value                int64\n",
              "value-units         object\n",
              "zone                object\n",
              "dtype: object"
            ]
          },
          "execution_count": 12,
          "metadata": {},
          "output_type": "execute_result"
        }
      ],
      "source": [
        "df.dtypes"
      ]
    },
    {
      "cell_type": "code",
      "execution_count": 13,
      "metadata": {
        "colab": {
          "base_uri": "https://localhost:8080/"
        },
        "id": "fomWMFuhLhwp",
        "outputId": "e0f949e2-9e5d-4658-e910-822db0ccdd5d"
      },
      "outputs": [
        {
          "data": {
            "text/plain": [
              "array(['megawatthours'], dtype=object)"
            ]
          },
          "execution_count": 13,
          "metadata": {},
          "output_type": "execute_result"
        }
      ],
      "source": [
        "df['value-units'].unique()"
      ]
    },
    {
      "cell_type": "code",
      "execution_count": 14,
      "metadata": {
        "colab": {
          "base_uri": "https://localhost:8080/"
        },
        "id": "bxMIXpF1Lr--",
        "outputId": "b22066c8-587e-4b82-8b54-687692e939f0"
      },
      "outputs": [
        {
          "name": "stdout",
          "output_type": "stream",
          "text": [
            "<class 'pandas.core.frame.DataFrame'>\n",
            "Index: 80000 entries, 0 to 354999\n",
            "Data columns (total 27 columns):\n",
            " #   Column           Non-Null Count  Dtype  \n",
            "---  ------           --------------  -----  \n",
            " 0   datetime         80000 non-null  object \n",
            " 1   tempF            80000 non-null  int64  \n",
            " 2   windspeedMiles   80000 non-null  int64  \n",
            " 3   weatherCode      80000 non-null  int64  \n",
            " 4   precipMM         80000 non-null  float64\n",
            " 5   precipInches     80000 non-null  float64\n",
            " 6   humidity         80000 non-null  int64  \n",
            " 7   visibility       80000 non-null  int64  \n",
            " 8   visibilityMiles  80000 non-null  int64  \n",
            " 9   pressure         80000 non-null  int64  \n",
            " 10  pressureInches   80000 non-null  int64  \n",
            " 11  cloudcover       80000 non-null  int64  \n",
            " 12  HeatIndexC       80000 non-null  int64  \n",
            " 13  HeatIndexF       80000 non-null  int64  \n",
            " 14  DewPointC        80000 non-null  int64  \n",
            " 15  DewPointF        80000 non-null  int64  \n",
            " 16  WindChillC       80000 non-null  int64  \n",
            " 17  WindChillF       80000 non-null  int64  \n",
            " 18  WindGustMiles    80000 non-null  int64  \n",
            " 19  WindGustKmph     80000 non-null  int64  \n",
            " 20  FeelsLikeC       80000 non-null  int64  \n",
            " 21  FeelsLikeF       80000 non-null  int64  \n",
            " 22  uvIndex          80000 non-null  int64  \n",
            " 23  subba-name       80000 non-null  object \n",
            " 24  value            80000 non-null  int64  \n",
            " 25  value-units      80000 non-null  object \n",
            " 26  zone             80000 non-null  object \n",
            "dtypes: float64(2), int64(21), object(4)\n",
            "memory usage: 17.1+ MB\n"
          ]
        }
      ],
      "source": [
        "df.info()"
      ]
    },
    {
      "cell_type": "markdown",
      "metadata": {
        "id": "QEMtuuzBMJdr"
      },
      "source": [
        "# Handling missing values"
      ]
    },
    {
      "cell_type": "code",
      "execution_count": 15,
      "metadata": {
        "colab": {
          "base_uri": "https://localhost:8080/",
          "height": 920
        },
        "id": "XCsmnMZzKnar",
        "outputId": "bf5bc2a9-0d35-40fe-b06b-6d4d6d14b24d"
      },
      "outputs": [
        {
          "data": {
            "text/plain": [
              "datetime           0\n",
              "tempF              0\n",
              "windspeedMiles     0\n",
              "weatherCode        0\n",
              "precipMM           0\n",
              "precipInches       0\n",
              "humidity           0\n",
              "visibility         0\n",
              "visibilityMiles    0\n",
              "pressure           0\n",
              "pressureInches     0\n",
              "cloudcover         0\n",
              "HeatIndexC         0\n",
              "HeatIndexF         0\n",
              "DewPointC          0\n",
              "DewPointF          0\n",
              "WindChillC         0\n",
              "WindChillF         0\n",
              "WindGustMiles      0\n",
              "WindGustKmph       0\n",
              "FeelsLikeC         0\n",
              "FeelsLikeF         0\n",
              "uvIndex            0\n",
              "subba-name         0\n",
              "value              0\n",
              "value-units        0\n",
              "zone               0\n",
              "dtype: int64"
            ]
          },
          "execution_count": 15,
          "metadata": {},
          "output_type": "execute_result"
        }
      ],
      "source": [
        "df.isnull().sum()"
      ]
    },
    {
      "cell_type": "markdown",
      "metadata": {
        "id": "dQ02UFPMLECV"
      },
      "source": [
        "No missing values"
      ]
    },
    {
      "cell_type": "code",
      "execution_count": 16,
      "metadata": {
        "colab": {
          "base_uri": "https://localhost:8080/",
          "height": 779
        },
        "id": "BAqgO_XXLyon",
        "outputId": "94d4c0d0-9b8b-4cd1-d31c-e41a91b77322"
      },
      "outputs": [
        {
          "data": {
            "text/html": [
              "<div>\n",
              "<style scoped>\n",
              "    .dataframe tbody tr th:only-of-type {\n",
              "        vertical-align: middle;\n",
              "    }\n",
              "\n",
              "    .dataframe tbody tr th {\n",
              "        vertical-align: top;\n",
              "    }\n",
              "\n",
              "    .dataframe thead th {\n",
              "        text-align: right;\n",
              "    }\n",
              "</style>\n",
              "<table border=\"1\" class=\"dataframe\">\n",
              "  <thead>\n",
              "    <tr style=\"text-align: right;\">\n",
              "      <th></th>\n",
              "      <th>datetime</th>\n",
              "      <th>tempF</th>\n",
              "      <th>windspeedMiles</th>\n",
              "      <th>weatherCode</th>\n",
              "      <th>precipMM</th>\n",
              "      <th>precipInches</th>\n",
              "      <th>humidity</th>\n",
              "      <th>visibility</th>\n",
              "      <th>visibilityMiles</th>\n",
              "      <th>pressure</th>\n",
              "      <th>...</th>\n",
              "      <th>WindChillF</th>\n",
              "      <th>WindGustMiles</th>\n",
              "      <th>WindGustKmph</th>\n",
              "      <th>FeelsLikeC</th>\n",
              "      <th>FeelsLikeF</th>\n",
              "      <th>uvIndex</th>\n",
              "      <th>subba-name</th>\n",
              "      <th>value</th>\n",
              "      <th>value-units</th>\n",
              "      <th>zone</th>\n",
              "    </tr>\n",
              "  </thead>\n",
              "  <tbody>\n",
              "  </tbody>\n",
              "</table>\n",
              "<p>0 rows × 27 columns</p>\n",
              "</div>"
            ],
            "text/plain": [
              "Empty DataFrame\n",
              "Columns: [datetime, tempF, windspeedMiles, weatherCode, precipMM, precipInches, humidity, visibility, visibilityMiles, pressure, pressureInches, cloudcover, HeatIndexC, HeatIndexF, DewPointC, DewPointF, WindChillC, WindChillF, WindGustMiles, WindGustKmph, FeelsLikeC, FeelsLikeF, uvIndex, subba-name, value, value-units, zone]\n",
              "Index: []\n",
              "\n",
              "[0 rows x 27 columns]"
            ]
          },
          "execution_count": 16,
          "metadata": {},
          "output_type": "execute_result"
        }
      ],
      "source": [
        "df[df.duplicated()]"
      ]
    },
    {
      "cell_type": "code",
      "execution_count": 17,
      "metadata": {},
      "outputs": [
        {
          "data": {
            "text/plain": [
              "array(['ERCO - Coast', 'ERCO - Far West', 'ERCO - North Central',\n",
              "       'ERCO - North', 'ERCO - South Central', 'ERCO - South',\n",
              "       'ERCO - West', 'ERCO - East', 'ISNE - Maine',\n",
              "       'ISNE - Rhode Island', 'ISNE - Vermont', 'ISNE - Southeast Mass.',\n",
              "       'ISNE - New Hampshire', 'ISNE - Connecticut',\n",
              "       'ISNE - Western/Central Mass.', 'ISNE - Northeast Mass.'],\n",
              "      dtype=object)"
            ]
          },
          "execution_count": 17,
          "metadata": {},
          "output_type": "execute_result"
        }
      ],
      "source": [
        "df['subba-name'].unique()"
      ]
    },
    {
      "cell_type": "markdown",
      "metadata": {},
      "source": [
        "Normalization and Label Encoding"
      ]
    },
    {
      "cell_type": "code",
      "execution_count": 18,
      "metadata": {
        "colab": {
          "base_uri": "https://localhost:8080/",
          "height": 440
        },
        "id": "h6JS5YtfW739",
        "outputId": "8b0cb3c3-a3d3-421f-da23-6452ab9ccec7"
      },
      "outputs": [
        {
          "name": "stderr",
          "output_type": "stream",
          "text": [
            "/var/folders/sl/p2bldhbn72jg5x6t45zg0_wm0000gn/T/ipykernel_44298/3609634645.py:5: SettingWithCopyWarning: \n",
            "A value is trying to be set on a copy of a slice from a DataFrame.\n",
            "Try using .loc[row_indexer,col_indexer] = value instead\n",
            "\n",
            "See the caveats in the documentation: https://pandas.pydata.org/pandas-docs/stable/user_guide/indexing.html#returning-a-view-versus-a-copy\n",
            "  df['datetime'] = pd.to_datetime(df['datetime'])\n",
            "/var/folders/sl/p2bldhbn72jg5x6t45zg0_wm0000gn/T/ipykernel_44298/3609634645.py:6: SettingWithCopyWarning: \n",
            "A value is trying to be set on a copy of a slice from a DataFrame.\n",
            "Try using .loc[row_indexer,col_indexer] = value instead\n",
            "\n",
            "See the caveats in the documentation: https://pandas.pydata.org/pandas-docs/stable/user_guide/indexing.html#returning-a-view-versus-a-copy\n",
            "  df['month'] = df['datetime'].dt.month\n",
            "/var/folders/sl/p2bldhbn72jg5x6t45zg0_wm0000gn/T/ipykernel_44298/3609634645.py:17: SettingWithCopyWarning: \n",
            "A value is trying to be set on a copy of a slice from a DataFrame.\n",
            "Try using .loc[row_indexer,col_indexer] = value instead\n",
            "\n",
            "See the caveats in the documentation: https://pandas.pydata.org/pandas-docs/stable/user_guide/indexing.html#returning-a-view-versus-a-copy\n",
            "  df[numerical_columns] = scaler.fit_transform(df[numerical_columns])\n",
            "/var/folders/sl/p2bldhbn72jg5x6t45zg0_wm0000gn/T/ipykernel_44298/3609634645.py:25: SettingWithCopyWarning: \n",
            "A value is trying to be set on a copy of a slice from a DataFrame.\n",
            "Try using .loc[row_indexer,col_indexer] = value instead\n",
            "\n",
            "See the caveats in the documentation: https://pandas.pydata.org/pandas-docs/stable/user_guide/indexing.html#returning-a-view-versus-a-copy\n",
            "  df[categorical_columns] = df[categorical_columns].astype(str)\n",
            "/var/folders/sl/p2bldhbn72jg5x6t45zg0_wm0000gn/T/ipykernel_44298/3609634645.py:34: SettingWithCopyWarning: \n",
            "A value is trying to be set on a copy of a slice from a DataFrame.\n",
            "Try using .loc[row_indexer,col_indexer] = value instead\n",
            "\n",
            "See the caveats in the documentation: https://pandas.pydata.org/pandas-docs/stable/user_guide/indexing.html#returning-a-view-versus-a-copy\n",
            "  df[col] = le.fit_transform(df[col])\n",
            "/var/folders/sl/p2bldhbn72jg5x6t45zg0_wm0000gn/T/ipykernel_44298/3609634645.py:34: SettingWithCopyWarning: \n",
            "A value is trying to be set on a copy of a slice from a DataFrame.\n",
            "Try using .loc[row_indexer,col_indexer] = value instead\n",
            "\n",
            "See the caveats in the documentation: https://pandas.pydata.org/pandas-docs/stable/user_guide/indexing.html#returning-a-view-versus-a-copy\n",
            "  df[col] = le.fit_transform(df[col])\n",
            "/var/folders/sl/p2bldhbn72jg5x6t45zg0_wm0000gn/T/ipykernel_44298/3609634645.py:34: SettingWithCopyWarning: \n",
            "A value is trying to be set on a copy of a slice from a DataFrame.\n",
            "Try using .loc[row_indexer,col_indexer] = value instead\n",
            "\n",
            "See the caveats in the documentation: https://pandas.pydata.org/pandas-docs/stable/user_guide/indexing.html#returning-a-view-versus-a-copy\n",
            "  df[col] = le.fit_transform(df[col])\n"
          ]
        },
        {
          "data": {
            "text/html": [
              "<div>\n",
              "<style scoped>\n",
              "    .dataframe tbody tr th:only-of-type {\n",
              "        vertical-align: middle;\n",
              "    }\n",
              "\n",
              "    .dataframe tbody tr th {\n",
              "        vertical-align: top;\n",
              "    }\n",
              "\n",
              "    .dataframe thead th {\n",
              "        text-align: right;\n",
              "    }\n",
              "</style>\n",
              "<table border=\"1\" class=\"dataframe\">\n",
              "  <thead>\n",
              "    <tr style=\"text-align: right;\">\n",
              "      <th></th>\n",
              "      <th>datetime</th>\n",
              "      <th>tempF</th>\n",
              "      <th>windspeedMiles</th>\n",
              "      <th>weatherCode</th>\n",
              "      <th>precipMM</th>\n",
              "      <th>precipInches</th>\n",
              "      <th>humidity</th>\n",
              "      <th>visibility</th>\n",
              "      <th>visibilityMiles</th>\n",
              "      <th>pressure</th>\n",
              "      <th>...</th>\n",
              "      <th>WindGustMiles</th>\n",
              "      <th>WindGustKmph</th>\n",
              "      <th>FeelsLikeC</th>\n",
              "      <th>FeelsLikeF</th>\n",
              "      <th>uvIndex</th>\n",
              "      <th>subba-name</th>\n",
              "      <th>value</th>\n",
              "      <th>value-units</th>\n",
              "      <th>zone</th>\n",
              "      <th>month</th>\n",
              "    </tr>\n",
              "  </thead>\n",
              "  <tbody>\n",
              "    <tr>\n",
              "      <th>0</th>\n",
              "      <td>2019-06-05 17:00:00</td>\n",
              "      <td>0.761468</td>\n",
              "      <td>0.387097</td>\n",
              "      <td>0.244186</td>\n",
              "      <td>0.017045</td>\n",
              "      <td>0.000000</td>\n",
              "      <td>0.793478</td>\n",
              "      <td>0.9</td>\n",
              "      <td>0.833333</td>\n",
              "      <td>0.484848</td>\n",
              "      <td>...</td>\n",
              "      <td>0.366667</td>\n",
              "      <td>0.357143</td>\n",
              "      <td>0.810811</td>\n",
              "      <td>0.813433</td>\n",
              "      <td>0.555556</td>\n",
              "      <td>0</td>\n",
              "      <td>0.524034</td>\n",
              "      <td>0</td>\n",
              "      <td>8</td>\n",
              "      <td>6</td>\n",
              "    </tr>\n",
              "    <tr>\n",
              "      <th>1</th>\n",
              "      <td>2019-06-05 17:00:00</td>\n",
              "      <td>0.788991</td>\n",
              "      <td>0.193548</td>\n",
              "      <td>0.000000</td>\n",
              "      <td>0.000000</td>\n",
              "      <td>0.000000</td>\n",
              "      <td>0.184783</td>\n",
              "      <td>1.0</td>\n",
              "      <td>1.000000</td>\n",
              "      <td>0.484848</td>\n",
              "      <td>...</td>\n",
              "      <td>0.133333</td>\n",
              "      <td>0.132653</td>\n",
              "      <td>0.770270</td>\n",
              "      <td>0.768657</td>\n",
              "      <td>0.666667</td>\n",
              "      <td>2</td>\n",
              "      <td>0.126344</td>\n",
              "      <td>0</td>\n",
              "      <td>10</td>\n",
              "      <td>6</td>\n",
              "    </tr>\n",
              "    <tr>\n",
              "      <th>2</th>\n",
              "      <td>2019-06-05 17:00:00</td>\n",
              "      <td>0.752294</td>\n",
              "      <td>0.354839</td>\n",
              "      <td>0.941860</td>\n",
              "      <td>0.329545</td>\n",
              "      <td>0.285714</td>\n",
              "      <td>0.619565</td>\n",
              "      <td>1.0</td>\n",
              "      <td>1.000000</td>\n",
              "      <td>0.500000</td>\n",
              "      <td>...</td>\n",
              "      <td>0.266667</td>\n",
              "      <td>0.275510</td>\n",
              "      <td>0.783784</td>\n",
              "      <td>0.776119</td>\n",
              "      <td>0.555556</td>\n",
              "      <td>4</td>\n",
              "      <td>0.574779</td>\n",
              "      <td>0</td>\n",
              "      <td>11</td>\n",
              "      <td>6</td>\n",
              "    </tr>\n",
              "    <tr>\n",
              "      <th>3</th>\n",
              "      <td>2019-06-05 17:00:00</td>\n",
              "      <td>0.779817</td>\n",
              "      <td>0.193548</td>\n",
              "      <td>0.011628</td>\n",
              "      <td>0.000000</td>\n",
              "      <td>0.000000</td>\n",
              "      <td>0.586957</td>\n",
              "      <td>1.0</td>\n",
              "      <td>1.000000</td>\n",
              "      <td>0.484848</td>\n",
              "      <td>...</td>\n",
              "      <td>0.200000</td>\n",
              "      <td>0.193878</td>\n",
              "      <td>0.797297</td>\n",
              "      <td>0.805970</td>\n",
              "      <td>0.666667</td>\n",
              "      <td>3</td>\n",
              "      <td>0.035761</td>\n",
              "      <td>0</td>\n",
              "      <td>12</td>\n",
              "      <td>6</td>\n",
              "    </tr>\n",
              "    <tr>\n",
              "      <th>4</th>\n",
              "      <td>2019-06-05 17:00:00</td>\n",
              "      <td>0.779817</td>\n",
              "      <td>0.129032</td>\n",
              "      <td>0.011628</td>\n",
              "      <td>0.000000</td>\n",
              "      <td>0.000000</td>\n",
              "      <td>0.652174</td>\n",
              "      <td>0.9</td>\n",
              "      <td>0.833333</td>\n",
              "      <td>0.484848</td>\n",
              "      <td>...</td>\n",
              "      <td>0.150000</td>\n",
              "      <td>0.153061</td>\n",
              "      <td>0.824324</td>\n",
              "      <td>0.820896</td>\n",
              "      <td>0.666667</td>\n",
              "      <td>6</td>\n",
              "      <td>0.298877</td>\n",
              "      <td>0</td>\n",
              "      <td>13</td>\n",
              "      <td>6</td>\n",
              "    </tr>\n",
              "  </tbody>\n",
              "</table>\n",
              "<p>5 rows × 28 columns</p>\n",
              "</div>"
            ],
            "text/plain": [
              "             datetime     tempF  windspeedMiles  weatherCode  precipMM  \\\n",
              "0 2019-06-05 17:00:00  0.761468        0.387097     0.244186  0.017045   \n",
              "1 2019-06-05 17:00:00  0.788991        0.193548     0.000000  0.000000   \n",
              "2 2019-06-05 17:00:00  0.752294        0.354839     0.941860  0.329545   \n",
              "3 2019-06-05 17:00:00  0.779817        0.193548     0.011628  0.000000   \n",
              "4 2019-06-05 17:00:00  0.779817        0.129032     0.011628  0.000000   \n",
              "\n",
              "   precipInches  humidity  visibility  visibilityMiles  pressure  ...  \\\n",
              "0      0.000000  0.793478         0.9         0.833333  0.484848  ...   \n",
              "1      0.000000  0.184783         1.0         1.000000  0.484848  ...   \n",
              "2      0.285714  0.619565         1.0         1.000000  0.500000  ...   \n",
              "3      0.000000  0.586957         1.0         1.000000  0.484848  ...   \n",
              "4      0.000000  0.652174         0.9         0.833333  0.484848  ...   \n",
              "\n",
              "   WindGustMiles  WindGustKmph  FeelsLikeC  FeelsLikeF   uvIndex  subba-name  \\\n",
              "0       0.366667      0.357143    0.810811    0.813433  0.555556           0   \n",
              "1       0.133333      0.132653    0.770270    0.768657  0.666667           2   \n",
              "2       0.266667      0.275510    0.783784    0.776119  0.555556           4   \n",
              "3       0.200000      0.193878    0.797297    0.805970  0.666667           3   \n",
              "4       0.150000      0.153061    0.824324    0.820896  0.666667           6   \n",
              "\n",
              "      value  value-units  zone  month  \n",
              "0  0.524034            0     8      6  \n",
              "1  0.126344            0    10      6  \n",
              "2  0.574779            0    11      6  \n",
              "3  0.035761            0    12      6  \n",
              "4  0.298877            0    13      6  \n",
              "\n",
              "[5 rows x 28 columns]"
            ]
          },
          "execution_count": 18,
          "metadata": {},
          "output_type": "execute_result"
        }
      ],
      "source": [
        "import pandas as pd\n",
        "from sklearn.preprocessing import MinMaxScaler, LabelEncoder\n",
        "\n",
        "# Step 1: Extract the month from the 'datetime' column\n",
        "df['datetime'] = pd.to_datetime(df['datetime'])\n",
        "df['month'] = df['datetime'].dt.month\n",
        "\n",
        "# Step 2: Normalize only numerical columns (int64 and float64)\n",
        "\n",
        "# Select only the proper numerical columns (exclude 'object' type)\n",
        "numerical_columns = df.select_dtypes(include=['int64', 'float64']).columns\n",
        "\n",
        "# Initialize the MinMaxScaler\n",
        "scaler = MinMaxScaler()\n",
        "\n",
        "# Apply MinMax scaling to the numerical columns\n",
        "df[numerical_columns] = scaler.fit_transform(df[numerical_columns])\n",
        "\n",
        "# Step 3: Convert object columns to strings and label encode them\n",
        "\n",
        "# Select categorical columns (object type)\n",
        "categorical_columns = df.select_dtypes(include=['object']).columns\n",
        "\n",
        "# Ensure uniform data type by converting all categorical values to strings\n",
        "df[categorical_columns] = df[categorical_columns].astype(str)\n",
        "\n",
        "# Apply label encoding to each categorical column\n",
        "le = LabelEncoder()\n",
        "\n",
        "encoders = {}\n",
        "mappings = {}\n",
        "\n",
        "for col in categorical_columns:\n",
        "    df[col] = le.fit_transform(df[col])\n",
        "    encoders[col] = le\n",
        "    mappings[col] = dict(zip(le.classes_, le.transform(le.classes_)))\n",
        "\n",
        "# Step 4: Check the DataFrame\n",
        "df.head()\n",
        "\n",
        "\n"
      ]
    },
    {
      "cell_type": "code",
      "execution_count": 19,
      "metadata": {},
      "outputs": [
        {
          "name": "stdout",
          "output_type": "stream",
          "text": [
            "Encoding for subba-name:\n",
            "  ERCO - Coast: 0\n",
            "  ERCO - East: 1\n",
            "  ERCO - Far West: 2\n",
            "  ERCO - North: 3\n",
            "  ERCO - North Central: 4\n",
            "  ERCO - South: 5\n",
            "  ERCO - South Central: 6\n",
            "  ERCO - West: 7\n",
            "  ISNE - Connecticut: 8\n",
            "  ISNE - Maine: 9\n",
            "  ISNE - New Hampshire: 10\n",
            "  ISNE - Northeast Mass.: 11\n",
            "  ISNE - Rhode Island: 12\n",
            "  ISNE - Southeast Mass.: 13\n",
            "  ISNE - Vermont: 14\n",
            "  ISNE - Western/Central Mass.: 15\n",
            "Encoding for value-units:\n",
            "  megawatthours: 0\n",
            "Encoding for zone:\n",
            "  4001: 0\n",
            "  4002: 1\n",
            "  4003: 2\n",
            "  4004: 3\n",
            "  4005: 4\n",
            "  4006: 5\n",
            "  4007: 6\n",
            "  4008: 7\n",
            "  COAS: 8\n",
            "  EAST: 9\n",
            "  FWES: 10\n",
            "  NCEN: 11\n",
            "  NRTH: 12\n",
            "  SCEN: 13\n",
            "  SOUT: 14\n",
            "  WEST: 15\n"
          ]
        }
      ],
      "source": [
        "for column, mapping in mappings.items():\n",
        "    print(f\"Encoding for {column}:\")\n",
        "    for category, code in mapping.items():\n",
        "        print(f\"  {category}: {code}\")"
      ]
    },
    {
      "cell_type": "markdown",
      "metadata": {
        "id": "ip9p1EVhR3yZ"
      },
      "source": [
        "# Visualizations and Feature selection"
      ]
    },
    {
      "cell_type": "code",
      "execution_count": 20,
      "metadata": {
        "colab": {
          "base_uri": "https://localhost:8080/",
          "height": 440
        },
        "id": "YPULYG0eVSx8",
        "outputId": "d1cea7c8-cba0-4d57-87c8-fcfe9f13d382"
      },
      "outputs": [
        {
          "data": {
            "text/html": [
              "<div>\n",
              "<style scoped>\n",
              "    .dataframe tbody tr th:only-of-type {\n",
              "        vertical-align: middle;\n",
              "    }\n",
              "\n",
              "    .dataframe tbody tr th {\n",
              "        vertical-align: top;\n",
              "    }\n",
              "\n",
              "    .dataframe thead th {\n",
              "        text-align: right;\n",
              "    }\n",
              "</style>\n",
              "<table border=\"1\" class=\"dataframe\">\n",
              "  <thead>\n",
              "    <tr style=\"text-align: right;\">\n",
              "      <th></th>\n",
              "      <th>datetime</th>\n",
              "      <th>tempF</th>\n",
              "      <th>windspeedMiles</th>\n",
              "      <th>weatherCode</th>\n",
              "      <th>precipMM</th>\n",
              "      <th>precipInches</th>\n",
              "      <th>humidity</th>\n",
              "      <th>visibility</th>\n",
              "      <th>visibilityMiles</th>\n",
              "      <th>pressure</th>\n",
              "      <th>...</th>\n",
              "      <th>WindGustMiles</th>\n",
              "      <th>WindGustKmph</th>\n",
              "      <th>FeelsLikeC</th>\n",
              "      <th>FeelsLikeF</th>\n",
              "      <th>uvIndex</th>\n",
              "      <th>subba-name</th>\n",
              "      <th>value</th>\n",
              "      <th>value-units</th>\n",
              "      <th>zone</th>\n",
              "      <th>month</th>\n",
              "    </tr>\n",
              "  </thead>\n",
              "  <tbody>\n",
              "    <tr>\n",
              "      <th>0</th>\n",
              "      <td>2019-06-05 17:00:00</td>\n",
              "      <td>0.761468</td>\n",
              "      <td>0.387097</td>\n",
              "      <td>0.244186</td>\n",
              "      <td>0.017045</td>\n",
              "      <td>0.000000</td>\n",
              "      <td>0.793478</td>\n",
              "      <td>0.9</td>\n",
              "      <td>0.833333</td>\n",
              "      <td>0.484848</td>\n",
              "      <td>...</td>\n",
              "      <td>0.366667</td>\n",
              "      <td>0.357143</td>\n",
              "      <td>0.810811</td>\n",
              "      <td>0.813433</td>\n",
              "      <td>0.555556</td>\n",
              "      <td>0</td>\n",
              "      <td>0.524034</td>\n",
              "      <td>0</td>\n",
              "      <td>8</td>\n",
              "      <td>6</td>\n",
              "    </tr>\n",
              "    <tr>\n",
              "      <th>1</th>\n",
              "      <td>2019-06-05 17:00:00</td>\n",
              "      <td>0.788991</td>\n",
              "      <td>0.193548</td>\n",
              "      <td>0.000000</td>\n",
              "      <td>0.000000</td>\n",
              "      <td>0.000000</td>\n",
              "      <td>0.184783</td>\n",
              "      <td>1.0</td>\n",
              "      <td>1.000000</td>\n",
              "      <td>0.484848</td>\n",
              "      <td>...</td>\n",
              "      <td>0.133333</td>\n",
              "      <td>0.132653</td>\n",
              "      <td>0.770270</td>\n",
              "      <td>0.768657</td>\n",
              "      <td>0.666667</td>\n",
              "      <td>2</td>\n",
              "      <td>0.126344</td>\n",
              "      <td>0</td>\n",
              "      <td>10</td>\n",
              "      <td>6</td>\n",
              "    </tr>\n",
              "    <tr>\n",
              "      <th>2</th>\n",
              "      <td>2019-06-05 17:00:00</td>\n",
              "      <td>0.752294</td>\n",
              "      <td>0.354839</td>\n",
              "      <td>0.941860</td>\n",
              "      <td>0.329545</td>\n",
              "      <td>0.285714</td>\n",
              "      <td>0.619565</td>\n",
              "      <td>1.0</td>\n",
              "      <td>1.000000</td>\n",
              "      <td>0.500000</td>\n",
              "      <td>...</td>\n",
              "      <td>0.266667</td>\n",
              "      <td>0.275510</td>\n",
              "      <td>0.783784</td>\n",
              "      <td>0.776119</td>\n",
              "      <td>0.555556</td>\n",
              "      <td>4</td>\n",
              "      <td>0.574779</td>\n",
              "      <td>0</td>\n",
              "      <td>11</td>\n",
              "      <td>6</td>\n",
              "    </tr>\n",
              "    <tr>\n",
              "      <th>3</th>\n",
              "      <td>2019-06-05 17:00:00</td>\n",
              "      <td>0.779817</td>\n",
              "      <td>0.193548</td>\n",
              "      <td>0.011628</td>\n",
              "      <td>0.000000</td>\n",
              "      <td>0.000000</td>\n",
              "      <td>0.586957</td>\n",
              "      <td>1.0</td>\n",
              "      <td>1.000000</td>\n",
              "      <td>0.484848</td>\n",
              "      <td>...</td>\n",
              "      <td>0.200000</td>\n",
              "      <td>0.193878</td>\n",
              "      <td>0.797297</td>\n",
              "      <td>0.805970</td>\n",
              "      <td>0.666667</td>\n",
              "      <td>3</td>\n",
              "      <td>0.035761</td>\n",
              "      <td>0</td>\n",
              "      <td>12</td>\n",
              "      <td>6</td>\n",
              "    </tr>\n",
              "    <tr>\n",
              "      <th>4</th>\n",
              "      <td>2019-06-05 17:00:00</td>\n",
              "      <td>0.779817</td>\n",
              "      <td>0.129032</td>\n",
              "      <td>0.011628</td>\n",
              "      <td>0.000000</td>\n",
              "      <td>0.000000</td>\n",
              "      <td>0.652174</td>\n",
              "      <td>0.9</td>\n",
              "      <td>0.833333</td>\n",
              "      <td>0.484848</td>\n",
              "      <td>...</td>\n",
              "      <td>0.150000</td>\n",
              "      <td>0.153061</td>\n",
              "      <td>0.824324</td>\n",
              "      <td>0.820896</td>\n",
              "      <td>0.666667</td>\n",
              "      <td>6</td>\n",
              "      <td>0.298877</td>\n",
              "      <td>0</td>\n",
              "      <td>13</td>\n",
              "      <td>6</td>\n",
              "    </tr>\n",
              "  </tbody>\n",
              "</table>\n",
              "<p>5 rows × 28 columns</p>\n",
              "</div>"
            ],
            "text/plain": [
              "             datetime     tempF  windspeedMiles  weatherCode  precipMM  \\\n",
              "0 2019-06-05 17:00:00  0.761468        0.387097     0.244186  0.017045   \n",
              "1 2019-06-05 17:00:00  0.788991        0.193548     0.000000  0.000000   \n",
              "2 2019-06-05 17:00:00  0.752294        0.354839     0.941860  0.329545   \n",
              "3 2019-06-05 17:00:00  0.779817        0.193548     0.011628  0.000000   \n",
              "4 2019-06-05 17:00:00  0.779817        0.129032     0.011628  0.000000   \n",
              "\n",
              "   precipInches  humidity  visibility  visibilityMiles  pressure  ...  \\\n",
              "0      0.000000  0.793478         0.9         0.833333  0.484848  ...   \n",
              "1      0.000000  0.184783         1.0         1.000000  0.484848  ...   \n",
              "2      0.285714  0.619565         1.0         1.000000  0.500000  ...   \n",
              "3      0.000000  0.586957         1.0         1.000000  0.484848  ...   \n",
              "4      0.000000  0.652174         0.9         0.833333  0.484848  ...   \n",
              "\n",
              "   WindGustMiles  WindGustKmph  FeelsLikeC  FeelsLikeF   uvIndex  subba-name  \\\n",
              "0       0.366667      0.357143    0.810811    0.813433  0.555556           0   \n",
              "1       0.133333      0.132653    0.770270    0.768657  0.666667           2   \n",
              "2       0.266667      0.275510    0.783784    0.776119  0.555556           4   \n",
              "3       0.200000      0.193878    0.797297    0.805970  0.666667           3   \n",
              "4       0.150000      0.153061    0.824324    0.820896  0.666667           6   \n",
              "\n",
              "      value  value-units  zone  month  \n",
              "0  0.524034            0     8      6  \n",
              "1  0.126344            0    10      6  \n",
              "2  0.574779            0    11      6  \n",
              "3  0.035761            0    12      6  \n",
              "4  0.298877            0    13      6  \n",
              "\n",
              "[5 rows x 28 columns]"
            ]
          },
          "execution_count": 20,
          "metadata": {},
          "output_type": "execute_result"
        }
      ],
      "source": [
        "df.head()"
      ]
    },
    {
      "cell_type": "markdown",
      "metadata": {
        "id": "44fQ4N3dvgpJ"
      },
      "source": [
        "## Average demand by Location"
      ]
    },
    {
      "cell_type": "code",
      "execution_count": 21,
      "metadata": {
        "id": "UKRYpo2EVYOb"
      },
      "outputs": [],
      "source": [
        "subba_group = df.groupby('subba-name')"
      ]
    },
    {
      "cell_type": "code",
      "execution_count": 22,
      "metadata": {
        "id": "4dasiwz-ucTs"
      },
      "outputs": [],
      "source": [
        "avg_demand_subba = subba_group['value'].mean().sort_values(ascending=False)"
      ]
    },
    {
      "cell_type": "code",
      "execution_count": 23,
      "metadata": {
        "colab": {
          "base_uri": "https://localhost:8080/",
          "height": 862
        },
        "id": "ynyy4aawusrS",
        "outputId": "f846904e-9e40-42fe-deeb-1133d866469a"
      },
      "outputs": [
        {
          "data": {
            "text/plain": [
              "(array([ 0,  1,  2,  3,  4,  5,  6,  7,  8,  9, 10, 11, 12, 13, 14, 15]),\n",
              " [Text(0, 0, '4'),\n",
              "  Text(1, 0, '0'),\n",
              "  Text(2, 0, '6'),\n",
              "  Text(3, 0, '5'),\n",
              "  Text(4, 0, '2'),\n",
              "  Text(5, 0, '8'),\n",
              "  Text(6, 0, '11'),\n",
              "  Text(7, 0, '15'),\n",
              "  Text(8, 0, '1'),\n",
              "  Text(9, 0, '13'),\n",
              "  Text(10, 0, '7'),\n",
              "  Text(11, 0, '10'),\n",
              "  Text(12, 0, '9'),\n",
              "  Text(13, 0, '3'),\n",
              "  Text(14, 0, '12'),\n",
              "  Text(15, 0, '14')])"
            ]
          },
          "execution_count": 23,
          "metadata": {},
          "output_type": "execute_result"
        },
        {
          "data": {
            "image/png": "[encoded data removed]",
            "text/plain": [
              "<Figure size 1200x600 with 1 Axes>"
            ]
          },
          "metadata": {},
          "output_type": "display_data"
        }
      ],
      "source": [
        "plt.figure(figsize=(12,6))\n",
        "avg_demand_subba.plot(kind='bar')\n",
        "plt.xlabel('Location')\n",
        "plt.ylabel('Average Demand')\n",
        "plt.title('Average demand by Location')\n",
        "plt.xticks(rotation = 45)"
      ]
    },
    {
      "cell_type": "markdown",
      "metadata": {
        "id": "H90KhLS9EweM"
      },
      "source": [
        "## Average Demand per Month"
      ]
    },
    {
      "cell_type": "code",
      "execution_count": 24,
      "metadata": {
        "colab": {
          "base_uri": "https://localhost:8080/",
          "height": 709
        },
        "id": "j47zZmx4v8rO",
        "outputId": "1f3ddb69-150f-4fbb-c95c-cf04876a7f11"
      },
      "outputs": [
        {
          "data": {
            "text/plain": [
              "(array([0, 1, 2, 3, 4, 5, 6]),\n",
              " [Text(0, 0, '6'),\n",
              "  Text(1, 0, '7'),\n",
              "  Text(2, 0, '8'),\n",
              "  Text(3, 0, '9'),\n",
              "  Text(4, 0, '10'),\n",
              "  Text(5, 0, '11'),\n",
              "  Text(6, 0, '12')])"
            ]
          },
          "execution_count": 24,
          "metadata": {},
          "output_type": "execute_result"
        },
        {
          "data": {
            "image/png": "[encoded data removed]",
            "text/plain": [
              "<Figure size 1200x600 with 1 Axes>"
            ]
          },
          "metadata": {},
          "output_type": "display_data"
        }
      ],
      "source": [
        "month_demand_group = df.groupby('month')\n",
        "avg_demand_month = month_demand_group['value'].mean()\n",
        "\n",
        "plt.figure(figsize = (12,6))\n",
        "avg_demand_month.plot(kind = 'bar')\n",
        "plt.xlabel('Month')\n",
        "plt.ylabel('Average Demand')\n",
        "plt.title('Average Demand per Month')\n",
        "plt.xticks(rotation = 45)"
      ]
    },
    {
      "cell_type": "markdown",
      "metadata": {
        "id": "Z2DOqC7g1zMn"
      },
      "source": [
        "## Correlation between Weather Factors and Demand Value"
      ]
    },
    {
      "cell_type": "code",
      "execution_count": 25,
      "metadata": {
        "colab": {
          "base_uri": "https://localhost:8080/"
        },
        "id": "vKUQr-nAv7Kv",
        "outputId": "d735cf01-4298-4e8d-9b40-cf5d4df8ad25"
      },
      "outputs": [
        {
          "data": {
            "text/plain": [
              "Index(['datetime', 'tempF', 'windspeedMiles', 'weatherCode', 'precipMM',\n",
              "       'precipInches', 'humidity', 'visibility', 'visibilityMiles', 'pressure',\n",
              "       'pressureInches', 'cloudcover', 'HeatIndexC', 'HeatIndexF', 'DewPointC',\n",
              "       'DewPointF', 'WindChillC', 'WindChillF', 'WindGustMiles',\n",
              "       'WindGustKmph', 'FeelsLikeC', 'FeelsLikeF', 'uvIndex', 'subba-name',\n",
              "       'value', 'value-units', 'zone', 'month'],\n",
              "      dtype='object')"
            ]
          },
          "execution_count": 25,
          "metadata": {},
          "output_type": "execute_result"
        }
      ],
      "source": [
        "df.columns"
      ]
    },
    {
      "cell_type": "code",
      "execution_count": 26,
      "metadata": {
        "colab": {
          "base_uri": "https://localhost:8080/",
          "height": 658
        },
        "id": "cVM2geOFuyjv",
        "outputId": "5c4d8bec-e836-4672-b298-4c0d3eb4fa75"
      },
      "outputs": [
        {
          "data": {
            "text/plain": [
              "Text(0.5, 1.0, 'Correlation between Weather Factors and Demand Value')"
            ]
          },
          "execution_count": 26,
          "metadata": {},
          "output_type": "execute_result"
        },
        {
          "data": {
            "image/png": "[encoded data removed]",
            "text/plain": [
              "<Figure size 1200x600 with 1 Axes>"
            ]
          },
          "metadata": {},
          "output_type": "display_data"
        }
      ],
      "source": [
        "weather_factors_value = df[['tempF', 'windspeedMiles', 'precipMM', 'humidity', 'visibilityMiles', 'pressure', 'cloudcover', 'HeatIndexF', 'DewPointF', 'WindChillF', 'WindGustMiles', 'FeelsLikeF', 'uvIndex', 'value']]\n",
        "weather_corr = weather_factors_value.corr()\n",
        "\n",
        "plt.figure(figsize = (12,6))\n",
        "sns.heatmap(weather_corr, annot = True, cmap = 'coolwarm', cbar=False)\n",
        "plt.title('Correlation between Weather Factors and Demand Value')"
      ]
    },
    {
      "cell_type": "code",
      "execution_count": 27,
      "metadata": {
        "colab": {
          "base_uri": "https://localhost:8080/"
        },
        "id": "FKoX5APH3SYz",
        "outputId": "f22f0239-d3f6-46d6-b8a6-12526988945b"
      },
      "outputs": [
        {
          "name": "stdout",
          "output_type": "stream",
          "text": [
            "Highly correlated feature pairs and their correlation with 'value':\n",
            "Pair: HeatIndexF and tempF - Correlation: 1.00\n",
            "  HeatIndexF with 'value': 0.34\n",
            "  tempF with 'value': 0.31\n",
            "  => HeatIndexF is more correlated with 'value', consider keeping it.\n",
            "--------------------------------------------------------------------------------\n",
            "Pair: DewPointF and tempF - Correlation: 0.88\n",
            "  DewPointF with 'value': 0.30\n",
            "  tempF with 'value': 0.31\n",
            "  => tempF is more correlated with 'value', consider keeping it.\n",
            "--------------------------------------------------------------------------------\n",
            "Pair: DewPointF and HeatIndexF - Correlation: 0.89\n",
            "  DewPointF with 'value': 0.30\n",
            "  HeatIndexF with 'value': 0.34\n",
            "  => HeatIndexF is more correlated with 'value', consider keeping it.\n",
            "--------------------------------------------------------------------------------\n",
            "Pair: WindChillF and tempF - Correlation: 1.00\n",
            "  WindChillF with 'value': 0.30\n",
            "  tempF with 'value': 0.31\n",
            "  => tempF is more correlated with 'value', consider keeping it.\n",
            "--------------------------------------------------------------------------------\n",
            "Pair: WindChillF and HeatIndexF - Correlation: 0.99\n",
            "  WindChillF with 'value': 0.30\n",
            "  HeatIndexF with 'value': 0.34\n",
            "  => HeatIndexF is more correlated with 'value', consider keeping it.\n",
            "--------------------------------------------------------------------------------\n",
            "Pair: WindChillF and DewPointF - Correlation: 0.88\n",
            "  WindChillF with 'value': 0.30\n",
            "  DewPointF with 'value': 0.30\n",
            "  => DewPointF is more correlated with 'value', consider keeping it.\n",
            "--------------------------------------------------------------------------------\n",
            "Pair: WindGustMiles and windspeedMiles - Correlation: 0.93\n",
            "  WindGustMiles with 'value': -0.05\n",
            "  windspeedMiles with 'value': 0.06\n",
            "  => windspeedMiles is more correlated with 'value', consider keeping it.\n",
            "--------------------------------------------------------------------------------\n",
            "Pair: FeelsLikeF and tempF - Correlation: 0.99\n",
            "  FeelsLikeF with 'value': 0.33\n",
            "  tempF with 'value': 0.31\n",
            "  => FeelsLikeF is more correlated with 'value', consider keeping it.\n",
            "--------------------------------------------------------------------------------\n",
            "Pair: FeelsLikeF and HeatIndexF - Correlation: 1.00\n",
            "  FeelsLikeF with 'value': 0.33\n",
            "  HeatIndexF with 'value': 0.34\n",
            "  => HeatIndexF is more correlated with 'value', consider keeping it.\n",
            "--------------------------------------------------------------------------------\n",
            "Pair: FeelsLikeF and DewPointF - Correlation: 0.89\n",
            "  FeelsLikeF with 'value': 0.33\n",
            "  DewPointF with 'value': 0.30\n",
            "  => FeelsLikeF is more correlated with 'value', consider keeping it.\n",
            "--------------------------------------------------------------------------------\n",
            "Pair: FeelsLikeF and WindChillF - Correlation: 1.00\n",
            "  FeelsLikeF with 'value': 0.33\n",
            "  WindChillF with 'value': 0.30\n",
            "  => FeelsLikeF is more correlated with 'value', consider keeping it.\n",
            "--------------------------------------------------------------------------------\n"
          ]
        }
      ],
      "source": [
        "# Step 1: Find pairs of features with correlation > 0.7\n",
        "threshold = 0.7\n",
        "high_corr_pairs = [(weather_corr.columns[i], weather_corr.columns[j], weather_corr.iloc[i, j])\n",
        "                   for i in range(len(weather_corr.columns)) for j in range(i)\n",
        "                   if abs(weather_corr.iloc[i, j]) > threshold]\n",
        "\n",
        "# Step 2: Evaluate how each feature in the pair is correlated with 'value'\n",
        "print(\"Highly correlated feature pairs and their correlation with 'value':\")\n",
        "for feature1, feature2, corr_value in high_corr_pairs:\n",
        "    corr_feature1_value = weather_corr.loc[feature1, 'value']\n",
        "    corr_feature2_value = weather_corr.loc[feature2, 'value']\n",
        "    print(f\"Pair: {feature1} and {feature2} - Correlation: {corr_value:.2f}\")\n",
        "    print(f\"  {feature1} with 'value': {corr_feature1_value:.2f}\")\n",
        "    print(f\"  {feature2} with 'value': {corr_feature2_value:.2f}\")\n",
        "\n",
        "    # Compare correlations with 'value' and suggest which to keep\n",
        "    if abs(corr_feature1_value) > abs(corr_feature2_value):\n",
        "        print(f\"  => {feature1} is more correlated with 'value', consider keeping it.\")\n",
        "    else:\n",
        "        print(f\"  => {feature2} is more correlated with 'value', consider keeping it.\")\n",
        "    print('-' * 80)"
      ]
    },
    {
      "cell_type": "markdown",
      "metadata": {
        "id": "z0ejVoEW3qDp"
      },
      "source": [
        "Looking at the plot - it can be decided to drop\n",
        "1. 'DewPointF', 'WindChillF', 'HeatIndexF', 'FeelsLikeF' and 'tempF' - are highly correlated\n",
        "2. 'windspeedMiles' and 'WindGustMiles' are also highly correlated with each other\n",
        "\n",
        "Considering how they are correlated with the target variable ('Value') - we will drop few features"
      ]
    },
    {
      "cell_type": "markdown",
      "metadata": {
        "id": "aV1BVjgnn3-v"
      },
      "source": [
        "Should look into ERCO - Far West"
      ]
    },
    {
      "cell_type": "markdown",
      "metadata": {
        "id": "_YxmmW3Jljqc"
      },
      "source": [
        "## Variance Inflation Factor (VIF)"
      ]
    },
    {
      "cell_type": "code",
      "execution_count": 28,
      "metadata": {
        "colab": {
          "base_uri": "https://localhost:8080/",
          "height": 452
        },
        "id": "xUjPma8FXz-S",
        "outputId": "c1e7d8df-0fcc-4aad-f68e-e29e9f877068"
      },
      "outputs": [
        {
          "data": {
            "text/html": [
              "<div>\n",
              "<style scoped>\n",
              "    .dataframe tbody tr th:only-of-type {\n",
              "        vertical-align: middle;\n",
              "    }\n",
              "\n",
              "    .dataframe tbody tr th {\n",
              "        vertical-align: top;\n",
              "    }\n",
              "\n",
              "    .dataframe thead th {\n",
              "        text-align: right;\n",
              "    }\n",
              "</style>\n",
              "<table border=\"1\" class=\"dataframe\">\n",
              "  <thead>\n",
              "    <tr style=\"text-align: right;\">\n",
              "      <th></th>\n",
              "      <th>features</th>\n",
              "      <th>VIF</th>\n",
              "    </tr>\n",
              "  </thead>\n",
              "  <tbody>\n",
              "    <tr>\n",
              "      <th>0</th>\n",
              "      <td>tempF</td>\n",
              "      <td>14139.982914</td>\n",
              "    </tr>\n",
              "    <tr>\n",
              "      <th>1</th>\n",
              "      <td>windspeedMiles</td>\n",
              "      <td>39.990017</td>\n",
              "    </tr>\n",
              "    <tr>\n",
              "      <th>2</th>\n",
              "      <td>precipMM</td>\n",
              "      <td>1.291686</td>\n",
              "    </tr>\n",
              "    <tr>\n",
              "      <th>3</th>\n",
              "      <td>humidity</td>\n",
              "      <td>69.307084</td>\n",
              "    </tr>\n",
              "    <tr>\n",
              "      <th>4</th>\n",
              "      <td>visibilityMiles</td>\n",
              "      <td>27.421375</td>\n",
              "    </tr>\n",
              "    <tr>\n",
              "      <th>5</th>\n",
              "      <td>pressure</td>\n",
              "      <td>37.101456</td>\n",
              "    </tr>\n",
              "    <tr>\n",
              "      <th>6</th>\n",
              "      <td>cloudcover</td>\n",
              "      <td>3.222166</td>\n",
              "    </tr>\n",
              "    <tr>\n",
              "      <th>7</th>\n",
              "      <td>HeatIndexF</td>\n",
              "      <td>10630.695788</td>\n",
              "    </tr>\n",
              "    <tr>\n",
              "      <th>8</th>\n",
              "      <td>DewPointF</td>\n",
              "      <td>395.536053</td>\n",
              "    </tr>\n",
              "    <tr>\n",
              "      <th>9</th>\n",
              "      <td>WindChillF</td>\n",
              "      <td>16597.440597</td>\n",
              "    </tr>\n",
              "    <tr>\n",
              "      <th>10</th>\n",
              "      <td>WindGustMiles</td>\n",
              "      <td>41.331062</td>\n",
              "    </tr>\n",
              "    <tr>\n",
              "      <th>11</th>\n",
              "      <td>FeelsLikeF</td>\n",
              "      <td>15112.937762</td>\n",
              "    </tr>\n",
              "    <tr>\n",
              "      <th>12</th>\n",
              "      <td>uvIndex</td>\n",
              "      <td>2.857031</td>\n",
              "    </tr>\n",
              "  </tbody>\n",
              "</table>\n",
              "</div>"
            ],
            "text/plain": [
              "           features           VIF\n",
              "0             tempF  14139.982914\n",
              "1    windspeedMiles     39.990017\n",
              "2          precipMM      1.291686\n",
              "3          humidity     69.307084\n",
              "4   visibilityMiles     27.421375\n",
              "5          pressure     37.101456\n",
              "6        cloudcover      3.222166\n",
              "7        HeatIndexF  10630.695788\n",
              "8         DewPointF    395.536053\n",
              "9        WindChillF  16597.440597\n",
              "10    WindGustMiles     41.331062\n",
              "11       FeelsLikeF  15112.937762\n",
              "12          uvIndex      2.857031"
            ]
          },
          "execution_count": 28,
          "metadata": {},
          "output_type": "execute_result"
        }
      ],
      "source": [
        "from statsmodels.stats. outliers_influence import variance_inflation_factor\n",
        "\n",
        "features = weather_factors_value.drop(columns=['value'])\n",
        "vif_data = pd.DataFrame()\n",
        "vif_data['features'] = features.columns\n",
        "\n",
        "vif_data['VIF'] = [variance_inflation_factor(features.values, i) for i in range(features.shape[1])]\n",
        "\n",
        "vif_data"
      ]
    },
    {
      "cell_type": "markdown",
      "metadata": {
        "id": "miMZ30JLl762"
      },
      "source": [
        "1. Very High VIF - tempF, HeatIndexF, WindChillF, FeelsLikeF\n",
        "2. Moderate VIF - windspeedMiles, humidity, visibilityMiles,pressure, DewPointF, WindGustMiles\n",
        "3. Low VIF - precipMM, cloudcover, uvindex\n"
      ]
    },
    {
      "cell_type": "markdown",
      "metadata": {
        "id": "r11XO_EwjRY-"
      },
      "source": [
        "So the columns initially which can be considered are - 'datetime', 'tempF', 'windspeedMiles', 'precipMM', 'humidity', 'visibilityMiles', 'pressure', 'cloudcover', 'HeatIndexF', 'DewPointF', 'WindChillF', 'WindGustMiles', 'FeelsLikeF', 'uvIndex', 'subba-name','value', 'value-units', 'zone', 'Month' - Dropping selected columns as few features are captured in different units\n",
        "\n",
        "\n",
        "The rest few columns to be dropped is yet to be decided based on other factors"
      ]
    },
    {
      "cell_type": "code",
      "execution_count": 29,
      "metadata": {
        "colab": {
          "base_uri": "https://localhost:8080/",
          "height": 440
        },
        "id": "aeJyPcZUm3zO",
        "outputId": "d938790d-14c6-4d1a-95cb-2b9f7c708838"
      },
      "outputs": [
        {
          "data": {
            "text/html": [
              "<div>\n",
              "<style scoped>\n",
              "    .dataframe tbody tr th:only-of-type {\n",
              "        vertical-align: middle;\n",
              "    }\n",
              "\n",
              "    .dataframe tbody tr th {\n",
              "        vertical-align: top;\n",
              "    }\n",
              "\n",
              "    .dataframe thead th {\n",
              "        text-align: right;\n",
              "    }\n",
              "</style>\n",
              "<table border=\"1\" class=\"dataframe\">\n",
              "  <thead>\n",
              "    <tr style=\"text-align: right;\">\n",
              "      <th></th>\n",
              "      <th>datetime</th>\n",
              "      <th>tempF</th>\n",
              "      <th>windspeedMiles</th>\n",
              "      <th>weatherCode</th>\n",
              "      <th>precipMM</th>\n",
              "      <th>precipInches</th>\n",
              "      <th>humidity</th>\n",
              "      <th>visibility</th>\n",
              "      <th>visibilityMiles</th>\n",
              "      <th>pressure</th>\n",
              "      <th>...</th>\n",
              "      <th>WindGustMiles</th>\n",
              "      <th>WindGustKmph</th>\n",
              "      <th>FeelsLikeC</th>\n",
              "      <th>FeelsLikeF</th>\n",
              "      <th>uvIndex</th>\n",
              "      <th>subba-name</th>\n",
              "      <th>value</th>\n",
              "      <th>value-units</th>\n",
              "      <th>zone</th>\n",
              "      <th>month</th>\n",
              "    </tr>\n",
              "  </thead>\n",
              "  <tbody>\n",
              "    <tr>\n",
              "      <th>0</th>\n",
              "      <td>2019-06-05 17:00:00</td>\n",
              "      <td>0.761468</td>\n",
              "      <td>0.387097</td>\n",
              "      <td>0.244186</td>\n",
              "      <td>0.017045</td>\n",
              "      <td>0.000000</td>\n",
              "      <td>0.793478</td>\n",
              "      <td>0.9</td>\n",
              "      <td>0.833333</td>\n",
              "      <td>0.484848</td>\n",
              "      <td>...</td>\n",
              "      <td>0.366667</td>\n",
              "      <td>0.357143</td>\n",
              "      <td>0.810811</td>\n",
              "      <td>0.813433</td>\n",
              "      <td>0.555556</td>\n",
              "      <td>0</td>\n",
              "      <td>0.524034</td>\n",
              "      <td>0</td>\n",
              "      <td>8</td>\n",
              "      <td>6</td>\n",
              "    </tr>\n",
              "    <tr>\n",
              "      <th>1</th>\n",
              "      <td>2019-06-05 17:00:00</td>\n",
              "      <td>0.788991</td>\n",
              "      <td>0.193548</td>\n",
              "      <td>0.000000</td>\n",
              "      <td>0.000000</td>\n",
              "      <td>0.000000</td>\n",
              "      <td>0.184783</td>\n",
              "      <td>1.0</td>\n",
              "      <td>1.000000</td>\n",
              "      <td>0.484848</td>\n",
              "      <td>...</td>\n",
              "      <td>0.133333</td>\n",
              "      <td>0.132653</td>\n",
              "      <td>0.770270</td>\n",
              "      <td>0.768657</td>\n",
              "      <td>0.666667</td>\n",
              "      <td>2</td>\n",
              "      <td>0.126344</td>\n",
              "      <td>0</td>\n",
              "      <td>10</td>\n",
              "      <td>6</td>\n",
              "    </tr>\n",
              "    <tr>\n",
              "      <th>2</th>\n",
              "      <td>2019-06-05 17:00:00</td>\n",
              "      <td>0.752294</td>\n",
              "      <td>0.354839</td>\n",
              "      <td>0.941860</td>\n",
              "      <td>0.329545</td>\n",
              "      <td>0.285714</td>\n",
              "      <td>0.619565</td>\n",
              "      <td>1.0</td>\n",
              "      <td>1.000000</td>\n",
              "      <td>0.500000</td>\n",
              "      <td>...</td>\n",
              "      <td>0.266667</td>\n",
              "      <td>0.275510</td>\n",
              "      <td>0.783784</td>\n",
              "      <td>0.776119</td>\n",
              "      <td>0.555556</td>\n",
              "      <td>4</td>\n",
              "      <td>0.574779</td>\n",
              "      <td>0</td>\n",
              "      <td>11</td>\n",
              "      <td>6</td>\n",
              "    </tr>\n",
              "    <tr>\n",
              "      <th>3</th>\n",
              "      <td>2019-06-05 17:00:00</td>\n",
              "      <td>0.779817</td>\n",
              "      <td>0.193548</td>\n",
              "      <td>0.011628</td>\n",
              "      <td>0.000000</td>\n",
              "      <td>0.000000</td>\n",
              "      <td>0.586957</td>\n",
              "      <td>1.0</td>\n",
              "      <td>1.000000</td>\n",
              "      <td>0.484848</td>\n",
              "      <td>...</td>\n",
              "      <td>0.200000</td>\n",
              "      <td>0.193878</td>\n",
              "      <td>0.797297</td>\n",
              "      <td>0.805970</td>\n",
              "      <td>0.666667</td>\n",
              "      <td>3</td>\n",
              "      <td>0.035761</td>\n",
              "      <td>0</td>\n",
              "      <td>12</td>\n",
              "      <td>6</td>\n",
              "    </tr>\n",
              "    <tr>\n",
              "      <th>4</th>\n",
              "      <td>2019-06-05 17:00:00</td>\n",
              "      <td>0.779817</td>\n",
              "      <td>0.129032</td>\n",
              "      <td>0.011628</td>\n",
              "      <td>0.000000</td>\n",
              "      <td>0.000000</td>\n",
              "      <td>0.652174</td>\n",
              "      <td>0.9</td>\n",
              "      <td>0.833333</td>\n",
              "      <td>0.484848</td>\n",
              "      <td>...</td>\n",
              "      <td>0.150000</td>\n",
              "      <td>0.153061</td>\n",
              "      <td>0.824324</td>\n",
              "      <td>0.820896</td>\n",
              "      <td>0.666667</td>\n",
              "      <td>6</td>\n",
              "      <td>0.298877</td>\n",
              "      <td>0</td>\n",
              "      <td>13</td>\n",
              "      <td>6</td>\n",
              "    </tr>\n",
              "  </tbody>\n",
              "</table>\n",
              "<p>5 rows × 28 columns</p>\n",
              "</div>"
            ],
            "text/plain": [
              "             datetime     tempF  windspeedMiles  weatherCode  precipMM  \\\n",
              "0 2019-06-05 17:00:00  0.761468        0.387097     0.244186  0.017045   \n",
              "1 2019-06-05 17:00:00  0.788991        0.193548     0.000000  0.000000   \n",
              "2 2019-06-05 17:00:00  0.752294        0.354839     0.941860  0.329545   \n",
              "3 2019-06-05 17:00:00  0.779817        0.193548     0.011628  0.000000   \n",
              "4 2019-06-05 17:00:00  0.779817        0.129032     0.011628  0.000000   \n",
              "\n",
              "   precipInches  humidity  visibility  visibilityMiles  pressure  ...  \\\n",
              "0      0.000000  0.793478         0.9         0.833333  0.484848  ...   \n",
              "1      0.000000  0.184783         1.0         1.000000  0.484848  ...   \n",
              "2      0.285714  0.619565         1.0         1.000000  0.500000  ...   \n",
              "3      0.000000  0.586957         1.0         1.000000  0.484848  ...   \n",
              "4      0.000000  0.652174         0.9         0.833333  0.484848  ...   \n",
              "\n",
              "   WindGustMiles  WindGustKmph  FeelsLikeC  FeelsLikeF   uvIndex  subba-name  \\\n",
              "0       0.366667      0.357143    0.810811    0.813433  0.555556           0   \n",
              "1       0.133333      0.132653    0.770270    0.768657  0.666667           2   \n",
              "2       0.266667      0.275510    0.783784    0.776119  0.555556           4   \n",
              "3       0.200000      0.193878    0.797297    0.805970  0.666667           3   \n",
              "4       0.150000      0.153061    0.824324    0.820896  0.666667           6   \n",
              "\n",
              "      value  value-units  zone  month  \n",
              "0  0.524034            0     8      6  \n",
              "1  0.126344            0    10      6  \n",
              "2  0.574779            0    11      6  \n",
              "3  0.035761            0    12      6  \n",
              "4  0.298877            0    13      6  \n",
              "\n",
              "[5 rows x 28 columns]"
            ]
          },
          "execution_count": 29,
          "metadata": {},
          "output_type": "execute_result"
        }
      ],
      "source": [
        "df.head()"
      ]
    },
    {
      "cell_type": "code",
      "execution_count": null,
      "metadata": {
        "id": "U9caCp6wLE1h"
      },
      "outputs": [],
      "source": []
    },
    {
      "cell_type": "code",
      "execution_count": 30,
      "metadata": {
        "colab": {
          "base_uri": "https://localhost:8080/",
          "height": 145
        },
        "id": "OThgK0dPGFYJ",
        "outputId": "62678423-ee20-4e97-f4eb-00f27fa0eaad"
      },
      "outputs": [
        {
          "data": {
            "text/plain": [
              "value-units\n",
              "0    80000\n",
              "Name: count, dtype: int64"
            ]
          },
          "execution_count": 30,
          "metadata": {},
          "output_type": "execute_result"
        }
      ],
      "source": [
        "df['value-units'].value_counts()"
      ]
    },
    {
      "cell_type": "code",
      "execution_count": 31,
      "metadata": {
        "colab": {
          "base_uri": "https://localhost:8080/"
        },
        "id": "uk9sx6GZLcy3",
        "outputId": "0eb42dd0-86cd-4078-a6d9-7fa9afb90b2d"
      },
      "outputs": [
        {
          "name": "stdout",
          "output_type": "stream",
          "text": [
            "['datetime', 'tempF', 'windspeedMiles', 'weatherCode', 'precipMM', 'precipInches', 'humidity', 'visibility', 'visibilityMiles', 'pressure', 'pressureInches', 'cloudcover', 'HeatIndexC', 'HeatIndexF', 'DewPointC', 'DewPointF', 'WindChillC', 'WindChillF', 'WindGustMiles', 'WindGustKmph', 'FeelsLikeC', 'FeelsLikeF', 'uvIndex', 'subba-name', 'value', 'value-units', 'zone', 'month']\n"
          ]
        }
      ],
      "source": [
        "column_names = df.columns.tolist()\n",
        "print(column_names)"
      ]
    },
    {
      "cell_type": "code",
      "execution_count": 32,
      "metadata": {
        "id": "4VwkeK0hT0LN"
      },
      "outputs": [],
      "source": [
        "selected_df = df[['HeatIndexF', 'tempF', 'WindChillF', 'windspeedMiles', 'FeelsLikeF',\n",
        "                            'precipMM', 'humidity', 'visibilityMiles', 'pressure', 'cloudcover', 'uvIndex','subba-name','zone','month','value']]\n",
        "\n",
        "\n"
      ]
    },
    {
      "cell_type": "code",
      "execution_count": 33,
      "metadata": {
        "colab": {
          "base_uri": "https://localhost:8080/",
          "height": 241
        },
        "id": "4AS-FW5GTLR-",
        "outputId": "c6cf4f90-4ae3-4ce2-93c0-841afe3df66a"
      },
      "outputs": [
        {
          "data": {
            "text/html": [
              "<div>\n",
              "<style scoped>\n",
              "    .dataframe tbody tr th:only-of-type {\n",
              "        vertical-align: middle;\n",
              "    }\n",
              "\n",
              "    .dataframe tbody tr th {\n",
              "        vertical-align: top;\n",
              "    }\n",
              "\n",
              "    .dataframe thead th {\n",
              "        text-align: right;\n",
              "    }\n",
              "</style>\n",
              "<table border=\"1\" class=\"dataframe\">\n",
              "  <thead>\n",
              "    <tr style=\"text-align: right;\">\n",
              "      <th></th>\n",
              "      <th>HeatIndexF</th>\n",
              "      <th>tempF</th>\n",
              "      <th>WindChillF</th>\n",
              "      <th>windspeedMiles</th>\n",
              "      <th>FeelsLikeF</th>\n",
              "      <th>precipMM</th>\n",
              "      <th>humidity</th>\n",
              "      <th>visibilityMiles</th>\n",
              "      <th>pressure</th>\n",
              "      <th>cloudcover</th>\n",
              "      <th>uvIndex</th>\n",
              "      <th>subba-name</th>\n",
              "      <th>zone</th>\n",
              "      <th>month</th>\n",
              "      <th>value</th>\n",
              "    </tr>\n",
              "  </thead>\n",
              "  <tbody>\n",
              "    <tr>\n",
              "      <th>0</th>\n",
              "      <td>0.784483</td>\n",
              "      <td>0.761468</td>\n",
              "      <td>0.795276</td>\n",
              "      <td>0.387097</td>\n",
              "      <td>0.813433</td>\n",
              "      <td>0.017045</td>\n",
              "      <td>0.793478</td>\n",
              "      <td>0.833333</td>\n",
              "      <td>0.484848</td>\n",
              "      <td>0.87</td>\n",
              "      <td>0.555556</td>\n",
              "      <td>0</td>\n",
              "      <td>8</td>\n",
              "      <td>6</td>\n",
              "      <td>0.524034</td>\n",
              "    </tr>\n",
              "    <tr>\n",
              "      <th>1</th>\n",
              "      <td>0.732759</td>\n",
              "      <td>0.788991</td>\n",
              "      <td>0.818898</td>\n",
              "      <td>0.193548</td>\n",
              "      <td>0.768657</td>\n",
              "      <td>0.000000</td>\n",
              "      <td>0.184783</td>\n",
              "      <td>1.000000</td>\n",
              "      <td>0.484848</td>\n",
              "      <td>0.09</td>\n",
              "      <td>0.666667</td>\n",
              "      <td>2</td>\n",
              "      <td>10</td>\n",
              "      <td>6</td>\n",
              "      <td>0.126344</td>\n",
              "    </tr>\n",
              "    <tr>\n",
              "      <th>2</th>\n",
              "      <td>0.741379</td>\n",
              "      <td>0.752294</td>\n",
              "      <td>0.787402</td>\n",
              "      <td>0.354839</td>\n",
              "      <td>0.776119</td>\n",
              "      <td>0.329545</td>\n",
              "      <td>0.619565</td>\n",
              "      <td>1.000000</td>\n",
              "      <td>0.500000</td>\n",
              "      <td>0.63</td>\n",
              "      <td>0.555556</td>\n",
              "      <td>4</td>\n",
              "      <td>11</td>\n",
              "      <td>6</td>\n",
              "      <td>0.574779</td>\n",
              "    </tr>\n",
              "    <tr>\n",
              "      <th>3</th>\n",
              "      <td>0.775862</td>\n",
              "      <td>0.779817</td>\n",
              "      <td>0.811024</td>\n",
              "      <td>0.193548</td>\n",
              "      <td>0.805970</td>\n",
              "      <td>0.000000</td>\n",
              "      <td>0.586957</td>\n",
              "      <td>1.000000</td>\n",
              "      <td>0.484848</td>\n",
              "      <td>0.40</td>\n",
              "      <td>0.666667</td>\n",
              "      <td>3</td>\n",
              "      <td>12</td>\n",
              "      <td>6</td>\n",
              "      <td>0.035761</td>\n",
              "    </tr>\n",
              "    <tr>\n",
              "      <th>4</th>\n",
              "      <td>0.793103</td>\n",
              "      <td>0.779817</td>\n",
              "      <td>0.811024</td>\n",
              "      <td>0.129032</td>\n",
              "      <td>0.820896</td>\n",
              "      <td>0.000000</td>\n",
              "      <td>0.652174</td>\n",
              "      <td>0.833333</td>\n",
              "      <td>0.484848</td>\n",
              "      <td>0.32</td>\n",
              "      <td>0.666667</td>\n",
              "      <td>6</td>\n",
              "      <td>13</td>\n",
              "      <td>6</td>\n",
              "      <td>0.298877</td>\n",
              "    </tr>\n",
              "  </tbody>\n",
              "</table>\n",
              "</div>"
            ],
            "text/plain": [
              "   HeatIndexF     tempF  WindChillF  windspeedMiles  FeelsLikeF  precipMM  \\\n",
              "0    0.784483  0.761468    0.795276        0.387097    0.813433  0.017045   \n",
              "1    0.732759  0.788991    0.818898        0.193548    0.768657  0.000000   \n",
              "2    0.741379  0.752294    0.787402        0.354839    0.776119  0.329545   \n",
              "3    0.775862  0.779817    0.811024        0.193548    0.805970  0.000000   \n",
              "4    0.793103  0.779817    0.811024        0.129032    0.820896  0.000000   \n",
              "\n",
              "   humidity  visibilityMiles  pressure  cloudcover   uvIndex  subba-name  \\\n",
              "0  0.793478         0.833333  0.484848        0.87  0.555556           0   \n",
              "1  0.184783         1.000000  0.484848        0.09  0.666667           2   \n",
              "2  0.619565         1.000000  0.500000        0.63  0.555556           4   \n",
              "3  0.586957         1.000000  0.484848        0.40  0.666667           3   \n",
              "4  0.652174         0.833333  0.484848        0.32  0.666667           6   \n",
              "\n",
              "   zone  month     value  \n",
              "0     8      6  0.524034  \n",
              "1    10      6  0.126344  \n",
              "2    11      6  0.574779  \n",
              "3    12      6  0.035761  \n",
              "4    13      6  0.298877  "
            ]
          },
          "execution_count": 33,
          "metadata": {},
          "output_type": "execute_result"
        }
      ],
      "source": [
        "selected_df.head()"
      ]
    },
    {
      "cell_type": "code",
      "execution_count": 34,
      "metadata": {
        "colab": {
          "base_uri": "https://localhost:8080/"
        },
        "id": "_vivKffwEtx-",
        "outputId": "d796329f-3e1a-4820-eba1-ab7c2329059d"
      },
      "outputs": [
        {
          "name": "stdout",
          "output_type": "stream",
          "text": [
            "Training set: (64000, 14) (64000,)\n",
            "Test set: (16000, 14) (16000,)\n"
          ]
        }
      ],
      "source": [
        "from sklearn.model_selection import train_test_split\n",
        "\n",
        "# Separate features and target variable\n",
        "X = selected_df.drop('value', axis=1)  # Features (drop the target column 'value')\n",
        "y = selected_df['value']  # Target variable (the 'value' column)\n",
        "\n",
        "# Split the data: 80% for training, 20% for testing\n",
        "X_train, X_test, y_train, y_test = train_test_split(X, y, test_size=0.2, random_state=42)\n",
        "\n",
        "# Output the shapes of the splits\n",
        "print(\"Training set:\", X_train.shape, y_train.shape)\n",
        "print(\"Test set:\", X_test.shape, y_test.shape)\n",
        "\n"
      ]
    },
    {
      "cell_type": "markdown",
      "metadata": {
        "id": "hV4BCXyHUxkr"
      },
      "source": [
        "# Model Building and Training"
      ]
    },
    {
      "cell_type": "markdown",
      "metadata": {},
      "source": [
        "Linear Regression"
      ]
    },
    {
      "cell_type": "code",
      "execution_count": 35,
      "metadata": {
        "colab": {
          "base_uri": "https://localhost:8080/"
        },
        "id": "DuRkYlES-oBk",
        "outputId": "3bc11131-03f7-4edb-cf6d-836c4f683789"
      },
      "outputs": [
        {
          "name": "stdout",
          "output_type": "stream",
          "text": [
            "Linear Regression Test Set Metrics:\n",
            "Mean Squared Error (MSE): 0.019362761949233608\n",
            "Mean Absolute Error (MAE): 0.09609929067869967\n",
            "R-squared (R²): 0.37046505034736854\n"
          ]
        }
      ],
      "source": [
        "from sklearn.linear_model import LinearRegression\n",
        "from sklearn.metrics import mean_squared_error, mean_absolute_error, r2_score\n",
        "\n",
        "# Initialize the Linear Regression model\n",
        "lin_reg = LinearRegression()\n",
        "\n",
        "# Fit the model on the training data\n",
        "lin_reg.fit(X_train, y_train)\n",
        "\n",
        "# Make predictions on the test data\n",
        "y_test_pred = lin_reg.predict(X_test)\n",
        "\n",
        "# Evaluate the model on the test set\n",
        "print(\"Linear Regression Test Set Metrics:\")\n",
        "print(\"Mean Squared Error (MSE):\", mean_squared_error(y_test, y_test_pred))\n",
        "print(\"Mean Absolute Error (MAE):\", mean_absolute_error(y_test, y_test_pred))\n",
        "print(\"R-squared (R²):\", r2_score(y_test, y_test_pred))\n"
      ]
    },
    {
      "cell_type": "markdown",
      "metadata": {},
      "source": [
        "Lasso Regression"
      ]
    },
    {
      "cell_type": "code",
      "execution_count": 36,
      "metadata": {
        "colab": {
          "base_uri": "https://localhost:8080/"
        },
        "id": "lcjJY8ksAhVu",
        "outputId": "5e45c107-b73f-407d-979e-a20a9f27a29a"
      },
      "outputs": [
        {
          "name": "stdout",
          "output_type": "stream",
          "text": [
            "Lasso Regression Test Set Metrics:\n",
            "Mean Squared Error (MSE): 0.023733758833589597\n",
            "Mean Absolute Error (MAE): 0.10451488877933321\n",
            "R-squared (R²): 0.22835230265468864\n"
          ]
        }
      ],
      "source": [
        "from sklearn.linear_model import Lasso\n",
        "from sklearn.metrics import mean_squared_error, mean_absolute_error, r2_score\n",
        "\n",
        "# Initialize the Lasso model with an alpha (regularization strength)\n",
        "lasso_reg = Lasso(alpha=0.1)\n",
        "\n",
        "# Fit the model on the training data\n",
        "lasso_reg.fit(X_train, y_train)\n",
        "\n",
        "# Make predictions on the test data\n",
        "y_test_pred = lasso_reg.predict(X_test)\n",
        "\n",
        "# Evaluate the model on the test set\n",
        "print(\"Lasso Regression Test Set Metrics:\")\n",
        "print(\"Mean Squared Error (MSE):\", mean_squared_error(y_test, y_test_pred))\n",
        "print(\"Mean Absolute Error (MAE):\", mean_absolute_error(y_test, y_test_pred))\n",
        "print(\"R-squared (R²):\", r2_score(y_test, y_test_pred))\n"
      ]
    },
    {
      "cell_type": "markdown",
      "metadata": {},
      "source": [
        "SVR without PCA"
      ]
    },
    {
      "cell_type": "code",
      "execution_count": 37,
      "metadata": {
        "id": "54b39hX9A7UJ"
      },
      "outputs": [
        {
          "name": "stdout",
          "output_type": "stream",
          "text": [
            "LinearSVR Test Set Metrics:\n",
            "Mean Squared Error (MSE): 0.02365678347745881\n",
            "Mean Absolute Error (MAE): 0.08894112496848768\n",
            "R-squared (R²): 0.23085497645057285\n"
          ]
        },
        {
          "name": "stderr",
          "output_type": "stream",
          "text": [
            "/Users/amoghagadde/Desktop/Amogha/Northeastern/SEM_3/ML_Ops/Project/mlops-project/mlops_env/lib/python3.11/site-packages/sklearn/svm/_base.py:1235: ConvergenceWarning: Liblinear failed to converge, increase the number of iterations.\n",
            "  warnings.warn(\n"
          ]
        }
      ],
      "source": [
        "from sklearn.svm import LinearSVR\n",
        "from sklearn.metrics import mean_squared_error, mean_absolute_error, r2_score\n",
        "\n",
        "# Initialize the LinearSVR model\n",
        "linear_svr = LinearSVR(random_state=42, max_iter=10000)\n",
        "\n",
        "# Fit the model on the training data\n",
        "linear_svr.fit(X_train, y_train)\n",
        "\n",
        "# Make predictions on the test data\n",
        "y_test_pred = linear_svr.predict(X_test)\n",
        "\n",
        "# Evaluate the model on the test set\n",
        "print(\"LinearSVR Test Set Metrics:\")\n",
        "print(\"Mean Squared Error (MSE):\", mean_squared_error(y_test, y_test_pred))\n",
        "print(\"Mean Absolute Error (MAE):\", mean_absolute_error(y_test, y_test_pred))\n",
        "print(\"R-squared (R²):\", r2_score(y_test, y_test_pred))\n"
      ]
    },
    {
      "cell_type": "markdown",
      "metadata": {
        "id": "44yPJcxV7Vzf"
      },
      "source": [
        "SVR with PCA"
      ]
    },
    {
      "cell_type": "code",
      "execution_count": 38,
      "metadata": {
        "colab": {
          "base_uri": "https://localhost:8080/"
        },
        "id": "5YQIEgHaBE-N",
        "outputId": "5045e74b-5cb8-4899-879b-eff0107eda04"
      },
      "outputs": [
        {
          "name": "stdout",
          "output_type": "stream",
          "text": [
            "LinearSVR Test Set Metrics (with PCA):\n",
            "Mean Squared Error (MSE): 0.027700371559176772\n",
            "Mean Absolute Error (MAE): 0.09203232115494465\n",
            "R-squared (R²): 0.09938716074770737\n"
          ]
        },
        {
          "name": "stderr",
          "output_type": "stream",
          "text": [
            "/Users/amoghagadde/Desktop/Amogha/Northeastern/SEM_3/ML_Ops/Project/mlops-project/mlops_env/lib/python3.11/site-packages/sklearn/svm/_base.py:1235: ConvergenceWarning: Liblinear failed to converge, increase the number of iterations.\n",
            "  warnings.warn(\n"
          ]
        }
      ],
      "source": [
        "from sklearn.decomposition import PCA\n",
        "from sklearn.svm import LinearSVR\n",
        "from sklearn.metrics import mean_squared_error, mean_absolute_error, r2_score\n",
        "\n",
        "\n",
        "pca = PCA(n_components=0.95)\n",
        "X_train_pca = pca.fit_transform(X_train)\n",
        "X_test_pca = pca.transform(X_test)\n",
        "\n",
        "# Initialize the LinearSVR model\n",
        "linear_svr = LinearSVR(random_state=42, max_iter=20000)\n",
        "\n",
        "# Fit the model on the training data\n",
        "linear_svr.fit(X_train_pca, y_train)\n",
        "\n",
        "# Make predictions on the test data\n",
        "y_test_pred = linear_svr.predict(X_test_pca)\n",
        "\n",
        "# Evaluate the model on the test set\n",
        "print(\"LinearSVR Test Set Metrics (with PCA):\")\n",
        "print(\"Mean Squared Error (MSE):\", mean_squared_error(y_test, y_test_pred))\n",
        "print(\"Mean Absolute Error (MAE):\", mean_absolute_error(y_test, y_test_pred))\n",
        "print(\"R-squared (R²):\", r2_score(y_test, y_test_pred))\n"
      ]
    },
    {
      "cell_type": "code",
      "execution_count": 39,
      "metadata": {
        "colab": {
          "base_uri": "https://localhost:8080/"
        },
        "id": "an9DgtGs7Z-1",
        "outputId": "32785924-1c95-45ee-99bb-311f5690d1d1"
      },
      "outputs": [
        {
          "name": "stdout",
          "output_type": "stream",
          "text": [
            "Number of components retained: 3\n"
          ]
        }
      ],
      "source": [
        "print(f\"Number of components retained:\", pca.n_components_)"
      ]
    },
    {
      "cell_type": "markdown",
      "metadata": {},
      "source": [
        "LSTM (Vanilla)"
      ]
    },
    {
      "cell_type": "code",
      "execution_count": 40,
      "metadata": {},
      "outputs": [
        {
          "name": "stdout",
          "output_type": "stream",
          "text": [
            "2.17.0\n"
          ]
        }
      ],
      "source": [
        "import tensorflow as tf\n",
        "print(tf.__version__)"
      ]
    },
    {
      "cell_type": "code",
      "execution_count": 41,
      "metadata": {
        "id": "WjBM6YteWVfY"
      },
      "outputs": [],
      "source": [
        "from tensorflow.keras.models import Sequential\n",
        "from tensorflow.keras.layers import LSTM, Dense\n",
        "from sklearn.metrics import mean_squared_error, mean_absolute_error, r2_score"
      ]
    },
    {
      "cell_type": "code",
      "execution_count": 42,
      "metadata": {},
      "outputs": [
        {
          "name": "stdout",
          "output_type": "stream",
          "text": [
            "X_train shape: (64000, 14)\n",
            "X_test shape: (16000, 14)\n",
            "y_train shape: (64000,)\n",
            "y_test shape: (16000,)\n"
          ]
        }
      ],
      "source": [
        "print(\"X_train shape:\", X_train.shape)\n",
        "print(\"X_test shape:\", X_test.shape)\n",
        "print(\"y_train shape:\", y_train.shape)\n",
        "print(\"y_test shape:\", y_test.shape)"
      ]
    },
    {
      "cell_type": "code",
      "execution_count": 43,
      "metadata": {},
      "outputs": [],
      "source": [
        "X_train = X_train.to_numpy().reshape((X_train.shape[0], 1, X_train.shape[1]))\n",
        "X_test = X_test.to_numpy().reshape((X_test.shape[0], 1, X_test.shape[1]))\n",
        "\n",
        "y_train = y_train.to_numpy()\n",
        "y_test = y_test.to_numpy()"
      ]
    },
    {
      "cell_type": "code",
      "execution_count": 44,
      "metadata": {},
      "outputs": [
        {
          "name": "stdout",
          "output_type": "stream",
          "text": [
            "X_train shape: (64000, 1, 14)\n",
            "X_test shape: (16000, 1, 14)\n",
            "y_train shape: (64000,)\n",
            "y_test shape: (16000,)\n"
          ]
        }
      ],
      "source": [
        "print(\"X_train shape:\", X_train.shape)\n",
        "print(\"X_test shape:\", X_test.shape)\n",
        "print(\"y_train shape:\", y_train.shape)\n",
        "print(\"y_test shape:\", y_test.shape)"
      ]
    },
    {
      "cell_type": "code",
      "execution_count": 45,
      "metadata": {},
      "outputs": [
        {
          "data": {
            "text/plain": [
              "(64000, 1, 14)"
            ]
          },
          "execution_count": 45,
          "metadata": {},
          "output_type": "execute_result"
        }
      ],
      "source": [
        "X_train.shape"
      ]
    },
    {
      "cell_type": "code",
      "execution_count": 46,
      "metadata": {},
      "outputs": [
        {
          "name": "stdout",
          "output_type": "stream",
          "text": [
            "float64\n",
            "float64\n"
          ]
        }
      ],
      "source": [
        "print(X_train.dtype)\n",
        "print(X_test.dtype)"
      ]
    },
    {
      "cell_type": "code",
      "execution_count": 47,
      "metadata": {},
      "outputs": [
        {
          "name": "stdout",
          "output_type": "stream",
          "text": [
            "<class 'numpy.ndarray'>\n"
          ]
        }
      ],
      "source": [
        "print(type(X_train))"
      ]
    },
    {
      "cell_type": "code",
      "execution_count": 49,
      "metadata": {},
      "outputs": [],
      "source": [
        "# Check for NaN or None values\n",
        "print(np.isnan(X_train).sum())\n",
        "print(np.isnan(X_test).sum())"
      ]
    },
    {
      "cell_type": "code",
      "execution_count": 51,
      "metadata": {},
      "outputs": [
        {
          "name": "stdout",
          "output_type": "stream",
          "text": [
            "Epoch 1/200\n"
          ]
        },
        {
          "name": "stderr",
          "output_type": "stream",
          "text": [
            "/Users/amoghagadde/Desktop/Amogha/Northeastern/SEM_3/ML_Ops/Project/mlops-project/mlops_env/lib/python3.11/site-packages/keras/src/layers/rnn/rnn.py:204: UserWarning: Do not pass an `input_shape`/`input_dim` argument to a layer. When using Sequential models, prefer using an `Input(shape)` object as the first layer in the model instead.\n",
            "  super().__init__(**kwargs)\n"
          ]
        },
        {
          "name": "stdout",
          "output_type": "stream",
          "text": [
            "\u001b[1m2000/2000\u001b[0m \u001b[32m━━━━━━━━━━━━━━━━━━━━\u001b[0m\u001b[37m\u001b[0m \u001b[1m1s\u001b[0m 371us/step - loss: 0.0262\n",
            "Epoch 2/200\n",
            "\u001b[1m2000/2000\u001b[0m \u001b[32m━━━━━━━━━━━━━━━━━━━━\u001b[0m\u001b[37m\u001b[0m \u001b[1m1s\u001b[0m 361us/step - loss: 0.0026\n",
            "Epoch 3/200\n",
            "\u001b[1m2000/2000\u001b[0m \u001b[32m━━━━━━━━━━━━━━━━━━━━\u001b[0m\u001b[37m\u001b[0m \u001b[1m1s\u001b[0m 367us/step - loss: 0.0020\n",
            "Epoch 4/200\n",
            "\u001b[1m2000/2000\u001b[0m \u001b[32m━━━━━━━━━━━━━━━━━━━━\u001b[0m\u001b[37m\u001b[0m \u001b[1m1s\u001b[0m 364us/step - loss: 0.0017\n",
            "Epoch 5/200\n",
            "\u001b[1m2000/2000\u001b[0m \u001b[32m━━━━━━━━━━━━━━━━━━━━\u001b[0m\u001b[37m\u001b[0m \u001b[1m1s\u001b[0m 363us/step - loss: 0.0016\n",
            "Epoch 6/200\n",
            "\u001b[1m2000/2000\u001b[0m \u001b[32m━━━━━━━━━━━━━━━━━━━━\u001b[0m\u001b[37m\u001b[0m \u001b[1m1s\u001b[0m 360us/step - loss: 0.0014\n",
            "Epoch 7/200\n",
            "\u001b[1m2000/2000\u001b[0m \u001b[32m━━━━━━━━━━━━━━━━━━━━\u001b[0m\u001b[37m\u001b[0m \u001b[1m1s\u001b[0m 362us/step - loss: 0.0013\n",
            "Epoch 8/200\n",
            "\u001b[1m2000/2000\u001b[0m \u001b[32m━━━━━━━━━━━━━━━━━━━━\u001b[0m\u001b[37m\u001b[0m \u001b[1m1s\u001b[0m 361us/step - loss: 0.0012\n",
            "Epoch 9/200\n",
            "\u001b[1m2000/2000\u001b[0m \u001b[32m━━━━━━━━━━━━━━━━━━━━\u001b[0m\u001b[37m\u001b[0m \u001b[1m1s\u001b[0m 359us/step - loss: 0.0012\n",
            "Epoch 10/200\n",
            "\u001b[1m2000/2000\u001b[0m \u001b[32m━━━━━━━━━━━━━━━━━━━━\u001b[0m\u001b[37m\u001b[0m \u001b[1m1s\u001b[0m 357us/step - loss: 0.0012\n",
            "Epoch 11/200\n",
            "\u001b[1m2000/2000\u001b[0m \u001b[32m━━━━━━━━━━━━━━━━━━━━\u001b[0m\u001b[37m\u001b[0m \u001b[1m1s\u001b[0m 356us/step - loss: 0.0012\n",
            "Epoch 12/200\n",
            "\u001b[1m2000/2000\u001b[0m \u001b[32m━━━━━━━━━━━━━━━━━━━━\u001b[0m\u001b[37m\u001b[0m \u001b[1m1s\u001b[0m 361us/step - loss: 0.0011\n",
            "Epoch 13/200\n",
            "\u001b[1m2000/2000\u001b[0m \u001b[32m━━━━━━━━━━━━━━━━━━━━\u001b[0m\u001b[37m\u001b[0m \u001b[1m1s\u001b[0m 360us/step - loss: 0.0011\n",
            "Epoch 14/200\n",
            "\u001b[1m2000/2000\u001b[0m \u001b[32m━━━━━━━━━━━━━━━━━━━━\u001b[0m\u001b[37m\u001b[0m \u001b[1m1s\u001b[0m 378us/step - loss: 0.0011\n",
            "Epoch 15/200\n",
            "\u001b[1m2000/2000\u001b[0m \u001b[32m━━━━━━━━━━━━━━━━━━━━\u001b[0m\u001b[37m\u001b[0m \u001b[1m1s\u001b[0m 363us/step - loss: 0.0010\n",
            "Epoch 16/200\n",
            "\u001b[1m2000/2000\u001b[0m \u001b[32m━━━━━━━━━━━━━━━━━━━━\u001b[0m\u001b[37m\u001b[0m \u001b[1m1s\u001b[0m 359us/step - loss: 0.0010\n",
            "Epoch 17/200\n",
            "\u001b[1m2000/2000\u001b[0m \u001b[32m━━━━━━━━━━━━━━━━━━━━\u001b[0m\u001b[37m\u001b[0m \u001b[1m1s\u001b[0m 370us/step - loss: 9.9447e-04\n",
            "Epoch 18/200\n",
            "\u001b[1m2000/2000\u001b[0m \u001b[32m━━━━━━━━━━━━━━━━━━━━\u001b[0m\u001b[37m\u001b[0m \u001b[1m1s\u001b[0m 361us/step - loss: 9.7697e-04\n",
            "Epoch 19/200\n",
            "\u001b[1m2000/2000\u001b[0m \u001b[32m━━━━━━━━━━━━━━━━━━━━\u001b[0m\u001b[37m\u001b[0m \u001b[1m1s\u001b[0m 359us/step - loss: 9.5920e-04\n",
            "Epoch 20/200\n",
            "\u001b[1m2000/2000\u001b[0m \u001b[32m━━━━━━━━━━━━━━━━━━━━\u001b[0m\u001b[37m\u001b[0m \u001b[1m1s\u001b[0m 358us/step - loss: 0.0010\n",
            "Epoch 21/200\n",
            "\u001b[1m2000/2000\u001b[0m \u001b[32m━━━━━━━━━━━━━━━━━━━━\u001b[0m\u001b[37m\u001b[0m \u001b[1m1s\u001b[0m 354us/step - loss: 9.4936e-04\n",
            "Epoch 22/200\n",
            "\u001b[1m2000/2000\u001b[0m \u001b[32m━━━━━━━━━━━━━━━━━━━━\u001b[0m\u001b[37m\u001b[0m \u001b[1m1s\u001b[0m 360us/step - loss: 8.9715e-04\n",
            "Epoch 23/200\n",
            "\u001b[1m2000/2000\u001b[0m \u001b[32m━━━━━━━━━━━━━━━━━━━━\u001b[0m\u001b[37m\u001b[0m \u001b[1m1s\u001b[0m 362us/step - loss: 9.1791e-04\n",
            "Epoch 24/200\n",
            "\u001b[1m2000/2000\u001b[0m \u001b[32m━━━━━━━━━━━━━━━━━━━━\u001b[0m\u001b[37m\u001b[0m \u001b[1m1s\u001b[0m 358us/step - loss: 9.5343e-04\n",
            "Epoch 25/200\n",
            "\u001b[1m2000/2000\u001b[0m \u001b[32m━━━━━━━━━━━━━━━━━━━━\u001b[0m\u001b[37m\u001b[0m \u001b[1m1s\u001b[0m 354us/step - loss: 8.9814e-04\n",
            "Epoch 26/200\n",
            "\u001b[1m2000/2000\u001b[0m \u001b[32m━━━━━━━━━━━━━━━━━━━━\u001b[0m\u001b[37m\u001b[0m \u001b[1m1s\u001b[0m 372us/step - loss: 9.2382e-04\n",
            "Epoch 27/200\n",
            "\u001b[1m2000/2000\u001b[0m \u001b[32m━━━━━━━━━━━━━━━━━━━━\u001b[0m\u001b[37m\u001b[0m \u001b[1m1s\u001b[0m 358us/step - loss: 8.9757e-04\n",
            "Epoch 28/200\n",
            "\u001b[1m2000/2000\u001b[0m \u001b[32m━━━━━━━━━━━━━━━━━━━━\u001b[0m\u001b[37m\u001b[0m \u001b[1m1s\u001b[0m 351us/step - loss: 9.0447e-04\n",
            "Epoch 29/200\n",
            "\u001b[1m2000/2000\u001b[0m \u001b[32m━━━━━━━━━━━━━━━━━━━━\u001b[0m\u001b[37m\u001b[0m \u001b[1m1s\u001b[0m 358us/step - loss: 8.7334e-04\n",
            "Epoch 30/200\n",
            "\u001b[1m2000/2000\u001b[0m \u001b[32m━━━━━━━━━━━━━━━━━━━━\u001b[0m\u001b[37m\u001b[0m \u001b[1m1s\u001b[0m 355us/step - loss: 8.5224e-04\n",
            "Epoch 31/200\n",
            "\u001b[1m2000/2000\u001b[0m \u001b[32m━━━━━━━━━━━━━━━━━━━━\u001b[0m\u001b[37m\u001b[0m \u001b[1m1s\u001b[0m 362us/step - loss: 8.8144e-04\n",
            "Epoch 32/200\n",
            "\u001b[1m2000/2000\u001b[0m \u001b[32m━━━━━━━━━━━━━━━━━━━━\u001b[0m\u001b[37m\u001b[0m \u001b[1m1s\u001b[0m 355us/step - loss: 8.6446e-04\n",
            "Epoch 33/200\n",
            "\u001b[1m2000/2000\u001b[0m \u001b[32m━━━━━━━━━━━━━━━━━━━━\u001b[0m\u001b[37m\u001b[0m \u001b[1m1s\u001b[0m 353us/step - loss: 8.7027e-04\n",
            "Epoch 34/200\n",
            "\u001b[1m2000/2000\u001b[0m \u001b[32m━━━━━━━━━━━━━━━━━━━━\u001b[0m\u001b[37m\u001b[0m \u001b[1m1s\u001b[0m 351us/step - loss: 8.7019e-04\n",
            "Epoch 35/200\n",
            "\u001b[1m2000/2000\u001b[0m \u001b[32m━━━━━━━━━━━━━━━━━━━━\u001b[0m\u001b[37m\u001b[0m \u001b[1m1s\u001b[0m 355us/step - loss: 8.8453e-04\n",
            "Epoch 36/200\n",
            "\u001b[1m2000/2000\u001b[0m \u001b[32m━━━━━━━━━━━━━━━━━━━━\u001b[0m\u001b[37m\u001b[0m \u001b[1m1s\u001b[0m 394us/step - loss: 8.2979e-04\n",
            "Epoch 37/200\n",
            "\u001b[1m2000/2000\u001b[0m \u001b[32m━━━━━━━━━━━━━━━━━━━━\u001b[0m\u001b[37m\u001b[0m \u001b[1m1s\u001b[0m 376us/step - loss: 8.5626e-04\n",
            "Epoch 38/200\n",
            "\u001b[1m2000/2000\u001b[0m \u001b[32m━━━━━━━━━━━━━━━━━━━━\u001b[0m\u001b[37m\u001b[0m \u001b[1m1s\u001b[0m 377us/step - loss: 8.2871e-04\n",
            "Epoch 39/200\n",
            "\u001b[1m2000/2000\u001b[0m \u001b[32m━━━━━━━━━━━━━━━━━━━━\u001b[0m\u001b[37m\u001b[0m \u001b[1m1s\u001b[0m 396us/step - loss: 8.2665e-04\n",
            "Epoch 40/200\n",
            "\u001b[1m2000/2000\u001b[0m \u001b[32m━━━━━━━━━━━━━━━━━━━━\u001b[0m\u001b[37m\u001b[0m \u001b[1m1s\u001b[0m 403us/step - loss: 8.2168e-04\n",
            "Epoch 41/200\n",
            "\u001b[1m2000/2000\u001b[0m \u001b[32m━━━━━━━━━━━━━━━━━━━━\u001b[0m\u001b[37m\u001b[0m \u001b[1m1s\u001b[0m 367us/step - loss: 8.3140e-04\n",
            "Epoch 42/200\n",
            "\u001b[1m2000/2000\u001b[0m \u001b[32m━━━━━━━━━━━━━━━━━━━━\u001b[0m\u001b[37m\u001b[0m \u001b[1m1s\u001b[0m 391us/step - loss: 8.0315e-04\n",
            "Epoch 43/200\n",
            "\u001b[1m2000/2000\u001b[0m \u001b[32m━━━━━━━━━━━━━━━━━━━━\u001b[0m\u001b[37m\u001b[0m \u001b[1m1s\u001b[0m 400us/step - loss: 8.0042e-04\n",
            "Epoch 44/200\n",
            "\u001b[1m2000/2000\u001b[0m \u001b[32m━━━━━━━━━━━━━━━━━━━━\u001b[0m\u001b[37m\u001b[0m \u001b[1m1s\u001b[0m 368us/step - loss: 8.1210e-04\n",
            "Epoch 45/200\n",
            "\u001b[1m2000/2000\u001b[0m \u001b[32m━━━━━━━━━━━━━━━━━━━━\u001b[0m\u001b[37m\u001b[0m \u001b[1m1s\u001b[0m 375us/step - loss: 8.1145e-04\n",
            "Epoch 46/200\n",
            "\u001b[1m2000/2000\u001b[0m \u001b[32m━━━━━━━━━━━━━━━━━━━━\u001b[0m\u001b[37m\u001b[0m \u001b[1m1s\u001b[0m 377us/step - loss: 8.0976e-04\n",
            "Epoch 47/200\n",
            "\u001b[1m2000/2000\u001b[0m \u001b[32m━━━━━━━━━━━━━━━━━━━━\u001b[0m\u001b[37m\u001b[0m \u001b[1m1s\u001b[0m 394us/step - loss: 8.0899e-04\n",
            "Epoch 48/200\n",
            "\u001b[1m2000/2000\u001b[0m \u001b[32m━━━━━━━━━━━━━━━━━━━━\u001b[0m\u001b[37m\u001b[0m \u001b[1m1s\u001b[0m 365us/step - loss: 8.0669e-04\n",
            "Epoch 49/200\n",
            "\u001b[1m2000/2000\u001b[0m \u001b[32m━━━━━━━━━━━━━━━━━━━━\u001b[0m\u001b[37m\u001b[0m \u001b[1m1s\u001b[0m 366us/step - loss: 7.7993e-04\n",
            "Epoch 50/200\n",
            "\u001b[1m2000/2000\u001b[0m \u001b[32m━━━━━━━━━━━━━━━━━━━━\u001b[0m\u001b[37m\u001b[0m \u001b[1m1s\u001b[0m 365us/step - loss: 7.8021e-04\n",
            "Epoch 51/200\n",
            "\u001b[1m2000/2000\u001b[0m \u001b[32m━━━━━━━━━━━━━━━━━━━━\u001b[0m\u001b[37m\u001b[0m \u001b[1m1s\u001b[0m 388us/step - loss: 7.7769e-04\n",
            "Epoch 52/200\n",
            "\u001b[1m2000/2000\u001b[0m \u001b[32m━━━━━━━━━━━━━━━━━━━━\u001b[0m\u001b[37m\u001b[0m \u001b[1m1s\u001b[0m 369us/step - loss: 7.9409e-04\n",
            "Epoch 53/200\n",
            "\u001b[1m2000/2000\u001b[0m \u001b[32m━━━━━━━━━━━━━━━━━━━━\u001b[0m\u001b[37m\u001b[0m \u001b[1m1s\u001b[0m 369us/step - loss: 7.8239e-04\n",
            "Epoch 54/200\n",
            "\u001b[1m2000/2000\u001b[0m \u001b[32m━━━━━━━━━━━━━━━━━━━━\u001b[0m\u001b[37m\u001b[0m \u001b[1m1s\u001b[0m 365us/step - loss: 7.7352e-04\n",
            "Epoch 55/200\n",
            "\u001b[1m2000/2000\u001b[0m \u001b[32m━━━━━━━━━━━━━━━━━━━━\u001b[0m\u001b[37m\u001b[0m \u001b[1m1s\u001b[0m 368us/step - loss: 7.7931e-04\n",
            "Epoch 56/200\n",
            "\u001b[1m2000/2000\u001b[0m \u001b[32m━━━━━━━━━━━━━━━━━━━━\u001b[0m\u001b[37m\u001b[0m \u001b[1m1s\u001b[0m 368us/step - loss: 7.4101e-04\n",
            "Epoch 57/200\n",
            "\u001b[1m2000/2000\u001b[0m \u001b[32m━━━━━━━━━━━━━━━━━━━━\u001b[0m\u001b[37m\u001b[0m \u001b[1m1s\u001b[0m 366us/step - loss: 7.6447e-04\n",
            "Epoch 58/200\n",
            "\u001b[1m2000/2000\u001b[0m \u001b[32m━━━━━━━━━━━━━━━━━━━━\u001b[0m\u001b[37m\u001b[0m \u001b[1m1s\u001b[0m 385us/step - loss: 7.5565e-04\n",
            "Epoch 59/200\n",
            "\u001b[1m2000/2000\u001b[0m \u001b[32m━━━━━━━━━━━━━━━━━━━━\u001b[0m\u001b[37m\u001b[0m \u001b[1m1s\u001b[0m 376us/step - loss: 7.6836e-04\n",
            "Epoch 60/200\n",
            "\u001b[1m2000/2000\u001b[0m \u001b[32m━━━━━━━━━━━━━━━━━━━━\u001b[0m\u001b[37m\u001b[0m \u001b[1m1s\u001b[0m 360us/step - loss: 7.2577e-04\n",
            "Epoch 61/200\n",
            "\u001b[1m2000/2000\u001b[0m \u001b[32m━━━━━━━━━━━━━━━━━━━━\u001b[0m\u001b[37m\u001b[0m \u001b[1m1s\u001b[0m 366us/step - loss: 7.5312e-04\n",
            "Epoch 62/200\n",
            "\u001b[1m2000/2000\u001b[0m \u001b[32m━━━━━━━━━━━━━━━━━━━━\u001b[0m\u001b[37m\u001b[0m \u001b[1m1s\u001b[0m 366us/step - loss: 7.3085e-04\n",
            "Epoch 63/200\n",
            "\u001b[1m2000/2000\u001b[0m \u001b[32m━━━━━━━━━━━━━━━━━━━━\u001b[0m\u001b[37m\u001b[0m \u001b[1m1s\u001b[0m 383us/step - loss: 7.2339e-04\n",
            "Epoch 64/200\n",
            "\u001b[1m2000/2000\u001b[0m \u001b[32m━━━━━━━━━━━━━━━━━━━━\u001b[0m\u001b[37m\u001b[0m \u001b[1m1s\u001b[0m 371us/step - loss: 7.4860e-04\n",
            "Epoch 65/200\n",
            "\u001b[1m2000/2000\u001b[0m \u001b[32m━━━━━━━━━━━━━━━━━━━━\u001b[0m\u001b[37m\u001b[0m \u001b[1m1s\u001b[0m 379us/step - loss: 7.3395e-04\n",
            "Epoch 66/200\n",
            "\u001b[1m2000/2000\u001b[0m \u001b[32m━━━━━━━━━━━━━━━━━━━━\u001b[0m\u001b[37m\u001b[0m \u001b[1m1s\u001b[0m 387us/step - loss: 7.2114e-04\n",
            "Epoch 67/200\n",
            "\u001b[1m2000/2000\u001b[0m \u001b[32m━━━━━━━━━━━━━━━━━━━━\u001b[0m\u001b[37m\u001b[0m \u001b[1m1s\u001b[0m 371us/step - loss: 7.3174e-04\n",
            "Epoch 68/200\n",
            "\u001b[1m2000/2000\u001b[0m \u001b[32m━━━━━━━━━━━━━━━━━━━━\u001b[0m\u001b[37m\u001b[0m \u001b[1m1s\u001b[0m 374us/step - loss: 7.4148e-04\n",
            "Epoch 69/200\n",
            "\u001b[1m2000/2000\u001b[0m \u001b[32m━━━━━━━━━━━━━━━━━━━━\u001b[0m\u001b[37m\u001b[0m \u001b[1m1s\u001b[0m 375us/step - loss: 7.1826e-04\n",
            "Epoch 70/200\n",
            "\u001b[1m2000/2000\u001b[0m \u001b[32m━━━━━━━━━━━━━━━━━━━━\u001b[0m\u001b[37m\u001b[0m \u001b[1m1s\u001b[0m 359us/step - loss: 7.3421e-04\n",
            "Epoch 71/200\n",
            "\u001b[1m2000/2000\u001b[0m \u001b[32m━━━━━━━━━━━━━━━━━━━━\u001b[0m\u001b[37m\u001b[0m \u001b[1m1s\u001b[0m 374us/step - loss: 7.3806e-04\n",
            "Epoch 72/200\n",
            "\u001b[1m2000/2000\u001b[0m \u001b[32m━━━━━━━━━━━━━━━━━━━━\u001b[0m\u001b[37m\u001b[0m \u001b[1m1s\u001b[0m 379us/step - loss: 7.1378e-04\n",
            "Epoch 73/200\n",
            "\u001b[1m2000/2000\u001b[0m \u001b[32m━━━━━━━━━━━━━━━━━━━━\u001b[0m\u001b[37m\u001b[0m \u001b[1m1s\u001b[0m 366us/step - loss: 7.3426e-04\n",
            "Epoch 74/200\n",
            "\u001b[1m2000/2000\u001b[0m \u001b[32m━━━━━━━━━━━━━━━━━━━━\u001b[0m\u001b[37m\u001b[0m \u001b[1m1s\u001b[0m 364us/step - loss: 7.3461e-04\n",
            "Epoch 75/200\n",
            "\u001b[1m2000/2000\u001b[0m \u001b[32m━━━━━━━━━━━━━━━━━━━━\u001b[0m\u001b[37m\u001b[0m \u001b[1m1s\u001b[0m 368us/step - loss: 7.1476e-04\n",
            "Epoch 76/200\n",
            "\u001b[1m2000/2000\u001b[0m \u001b[32m━━━━━━━━━━━━━━━━━━━━\u001b[0m\u001b[37m\u001b[0m \u001b[1m1s\u001b[0m 365us/step - loss: 7.1814e-04\n",
            "Epoch 77/200\n",
            "\u001b[1m2000/2000\u001b[0m \u001b[32m━━━━━━━━━━━━━━━━━━━━\u001b[0m\u001b[37m\u001b[0m \u001b[1m1s\u001b[0m 391us/step - loss: 7.2705e-04\n",
            "Epoch 78/200\n",
            "\u001b[1m2000/2000\u001b[0m \u001b[32m━━━━━━━━━━━━━━━━━━━━\u001b[0m\u001b[37m\u001b[0m \u001b[1m1s\u001b[0m 391us/step - loss: 7.3312e-04\n",
            "Epoch 79/200\n",
            "\u001b[1m2000/2000\u001b[0m \u001b[32m━━━━━━━━━━━━━━━━━━━━\u001b[0m\u001b[37m\u001b[0m \u001b[1m1s\u001b[0m 377us/step - loss: 7.1946e-04\n",
            "Epoch 80/200\n",
            "\u001b[1m2000/2000\u001b[0m \u001b[32m━━━━━━━━━━━━━━━━━━━━\u001b[0m\u001b[37m\u001b[0m \u001b[1m1s\u001b[0m 375us/step - loss: 7.0530e-04\n",
            "Epoch 81/200\n",
            "\u001b[1m2000/2000\u001b[0m \u001b[32m━━━━━━━━━━━━━━━━━━━━\u001b[0m\u001b[37m\u001b[0m \u001b[1m1s\u001b[0m 449us/step - loss: 7.2958e-04\n",
            "Epoch 82/200\n",
            "\u001b[1m2000/2000\u001b[0m \u001b[32m━━━━━━━━━━━━━━━━━━━━\u001b[0m\u001b[37m\u001b[0m \u001b[1m1s\u001b[0m 382us/step - loss: 7.2096e-04\n",
            "Epoch 83/200\n",
            "\u001b[1m2000/2000\u001b[0m \u001b[32m━━━━━━━━━━━━━━━━━━━━\u001b[0m\u001b[37m\u001b[0m \u001b[1m1s\u001b[0m 371us/step - loss: 7.0703e-04\n",
            "Epoch 84/200\n",
            "\u001b[1m2000/2000\u001b[0m \u001b[32m━━━━━━━━━━━━━━━━━━━━\u001b[0m\u001b[37m\u001b[0m \u001b[1m1s\u001b[0m 381us/step - loss: 7.0651e-04\n",
            "Epoch 85/200\n",
            "\u001b[1m2000/2000\u001b[0m \u001b[32m━━━━━━━━━━━━━━━━━━━━\u001b[0m\u001b[37m\u001b[0m \u001b[1m1s\u001b[0m 374us/step - loss: 7.2022e-04\n",
            "Epoch 86/200\n",
            "\u001b[1m2000/2000\u001b[0m \u001b[32m━━━━━━━━━━━━━━━━━━━━\u001b[0m\u001b[37m\u001b[0m \u001b[1m1s\u001b[0m 374us/step - loss: 7.1772e-04\n",
            "Epoch 87/200\n",
            "\u001b[1m2000/2000\u001b[0m \u001b[32m━━━━━━━━━━━━━━━━━━━━\u001b[0m\u001b[37m\u001b[0m \u001b[1m1s\u001b[0m 387us/step - loss: 6.9543e-04\n",
            "Epoch 88/200\n",
            "\u001b[1m2000/2000\u001b[0m \u001b[32m━━━━━━━━━━━━━━━━━━━━\u001b[0m\u001b[37m\u001b[0m \u001b[1m1s\u001b[0m 376us/step - loss: 7.1235e-04\n",
            "Epoch 89/200\n",
            "\u001b[1m2000/2000\u001b[0m \u001b[32m━━━━━━━━━━━━━━━━━━━━\u001b[0m\u001b[37m\u001b[0m \u001b[1m1s\u001b[0m 368us/step - loss: 6.9870e-04\n",
            "Epoch 90/200\n",
            "\u001b[1m2000/2000\u001b[0m \u001b[32m━━━━━━━━━━━━━━━━━━━━\u001b[0m\u001b[37m\u001b[0m \u001b[1m1s\u001b[0m 385us/step - loss: 7.0321e-04\n",
            "Epoch 91/200\n",
            "\u001b[1m2000/2000\u001b[0m \u001b[32m━━━━━━━━━━━━━━━━━━━━\u001b[0m\u001b[37m\u001b[0m \u001b[1m1s\u001b[0m 392us/step - loss: 6.8015e-04\n",
            "Epoch 92/200\n",
            "\u001b[1m2000/2000\u001b[0m \u001b[32m━━━━━━━━━━━━━━━━━━━━\u001b[0m\u001b[37m\u001b[0m \u001b[1m1s\u001b[0m 374us/step - loss: 7.1390e-04\n",
            "Epoch 93/200\n",
            "\u001b[1m2000/2000\u001b[0m \u001b[32m━━━━━━━━━━━━━━━━━━━━\u001b[0m\u001b[37m\u001b[0m \u001b[1m1s\u001b[0m 363us/step - loss: 6.8711e-04\n",
            "Epoch 94/200\n",
            "\u001b[1m2000/2000\u001b[0m \u001b[32m━━━━━━━━━━━━━━━━━━━━\u001b[0m\u001b[37m\u001b[0m \u001b[1m1s\u001b[0m 387us/step - loss: 6.9788e-04\n",
            "Epoch 95/200\n",
            "\u001b[1m2000/2000\u001b[0m \u001b[32m━━━━━━━━━━━━━━━━━━━━\u001b[0m\u001b[37m\u001b[0m \u001b[1m1s\u001b[0m 367us/step - loss: 7.1933e-04\n",
            "Epoch 96/200\n",
            "\u001b[1m2000/2000\u001b[0m \u001b[32m━━━━━━━━━━━━━━━━━━━━\u001b[0m\u001b[37m\u001b[0m \u001b[1m1s\u001b[0m 364us/step - loss: 6.7237e-04\n",
            "Epoch 97/200\n",
            "\u001b[1m2000/2000\u001b[0m \u001b[32m━━━━━━━━━━━━━━━━━━━━\u001b[0m\u001b[37m\u001b[0m \u001b[1m1s\u001b[0m 383us/step - loss: 7.0250e-04\n",
            "Epoch 98/200\n",
            "\u001b[1m2000/2000\u001b[0m \u001b[32m━━━━━━━━━━━━━━━━━━━━\u001b[0m\u001b[37m\u001b[0m \u001b[1m1s\u001b[0m 369us/step - loss: 7.0552e-04\n",
            "Epoch 99/200\n",
            "\u001b[1m2000/2000\u001b[0m \u001b[32m━━━━━━━━━━━━━━━━━━━━\u001b[0m\u001b[37m\u001b[0m \u001b[1m1s\u001b[0m 379us/step - loss: 6.8782e-04\n",
            "Epoch 100/200\n",
            "\u001b[1m2000/2000\u001b[0m \u001b[32m━━━━━━━━━━━━━━━━━━━━\u001b[0m\u001b[37m\u001b[0m \u001b[1m1s\u001b[0m 368us/step - loss: 6.9306e-04\n",
            "Epoch 101/200\n",
            "\u001b[1m2000/2000\u001b[0m \u001b[32m━━━━━━━━━━━━━━━━━━━━\u001b[0m\u001b[37m\u001b[0m \u001b[1m1s\u001b[0m 375us/step - loss: 7.0100e-04\n",
            "Epoch 102/200\n",
            "\u001b[1m2000/2000\u001b[0m \u001b[32m━━━━━━━━━━━━━━━━━━━━\u001b[0m\u001b[37m\u001b[0m \u001b[1m1s\u001b[0m 406us/step - loss: 7.0028e-04\n",
            "Epoch 103/200\n",
            "\u001b[1m2000/2000\u001b[0m \u001b[32m━━━━━━━━━━━━━━━━━━━━\u001b[0m\u001b[37m\u001b[0m \u001b[1m1s\u001b[0m 382us/step - loss: 7.2076e-04\n",
            "Epoch 104/200\n",
            "\u001b[1m2000/2000\u001b[0m \u001b[32m━━━━━━━━━━━━━━━━━━━━\u001b[0m\u001b[37m\u001b[0m \u001b[1m1s\u001b[0m 363us/step - loss: 6.8491e-04\n",
            "Epoch 105/200\n",
            "\u001b[1m2000/2000\u001b[0m \u001b[32m━━━━━━━━━━━━━━━━━━━━\u001b[0m\u001b[37m\u001b[0m \u001b[1m1s\u001b[0m 390us/step - loss: 6.8754e-04\n",
            "Epoch 106/200\n",
            "\u001b[1m2000/2000\u001b[0m \u001b[32m━━━━━━━━━━━━━━━━━━━━\u001b[0m\u001b[37m\u001b[0m \u001b[1m1s\u001b[0m 389us/step - loss: 6.8501e-04\n",
            "Epoch 107/200\n",
            "\u001b[1m2000/2000\u001b[0m \u001b[32m━━━━━━━━━━━━━━━━━━━━\u001b[0m\u001b[37m\u001b[0m \u001b[1m1s\u001b[0m 370us/step - loss: 6.6292e-04\n",
            "Epoch 108/200\n",
            "\u001b[1m2000/2000\u001b[0m \u001b[32m━━━━━━━━━━━━━━━━━━━━\u001b[0m\u001b[37m\u001b[0m \u001b[1m1s\u001b[0m 375us/step - loss: 6.7017e-04\n",
            "Epoch 109/200\n",
            "\u001b[1m2000/2000\u001b[0m \u001b[32m━━━━━━━━━━━━━━━━━━━━\u001b[0m\u001b[37m\u001b[0m \u001b[1m1s\u001b[0m 388us/step - loss: 6.6267e-04\n",
            "Epoch 110/200\n",
            "\u001b[1m2000/2000\u001b[0m \u001b[32m━━━━━━━━━━━━━━━━━━━━\u001b[0m\u001b[37m\u001b[0m \u001b[1m1s\u001b[0m 367us/step - loss: 6.7057e-04\n",
            "Epoch 111/200\n",
            "\u001b[1m2000/2000\u001b[0m \u001b[32m━━━━━━━━━━━━━━━━━━━━\u001b[0m\u001b[37m\u001b[0m \u001b[1m1s\u001b[0m 358us/step - loss: 6.6933e-04\n",
            "Epoch 112/200\n",
            "\u001b[1m2000/2000\u001b[0m \u001b[32m━━━━━━━━━━━━━━━━━━━━\u001b[0m\u001b[37m\u001b[0m \u001b[1m1s\u001b[0m 370us/step - loss: 6.6546e-04\n",
            "Epoch 113/200\n",
            "\u001b[1m2000/2000\u001b[0m \u001b[32m━━━━━━━━━━━━━━━━━━━━\u001b[0m\u001b[37m\u001b[0m \u001b[1m1s\u001b[0m 422us/step - loss: 6.7421e-04\n",
            "Epoch 114/200\n",
            "\u001b[1m2000/2000\u001b[0m \u001b[32m━━━━━━━━━━━━━━━━━━━━\u001b[0m\u001b[37m\u001b[0m \u001b[1m1s\u001b[0m 372us/step - loss: 6.8043e-04\n",
            "Epoch 115/200\n",
            "\u001b[1m2000/2000\u001b[0m \u001b[32m━━━━━━━━━━━━━━━━━━━━\u001b[0m\u001b[37m\u001b[0m \u001b[1m1s\u001b[0m 377us/step - loss: 6.7910e-04\n",
            "Epoch 116/200\n",
            "\u001b[1m2000/2000\u001b[0m \u001b[32m━━━━━━━━━━━━━━━━━━━━\u001b[0m\u001b[37m\u001b[0m \u001b[1m1s\u001b[0m 389us/step - loss: 6.6948e-04\n",
            "Epoch 117/200\n",
            "\u001b[1m2000/2000\u001b[0m \u001b[32m━━━━━━━━━━━━━━━━━━━━\u001b[0m\u001b[37m\u001b[0m \u001b[1m1s\u001b[0m 371us/step - loss: 6.6739e-04\n",
            "Epoch 118/200\n",
            "\u001b[1m2000/2000\u001b[0m \u001b[32m━━━━━━━━━━━━━━━━━━━━\u001b[0m\u001b[37m\u001b[0m \u001b[1m1s\u001b[0m 359us/step - loss: 6.7645e-04\n",
            "Epoch 119/200\n",
            "\u001b[1m2000/2000\u001b[0m \u001b[32m━━━━━━━━━━━━━━━━━━━━\u001b[0m\u001b[37m\u001b[0m \u001b[1m1s\u001b[0m 405us/step - loss: 6.9796e-04\n",
            "Epoch 120/200\n",
            "\u001b[1m2000/2000\u001b[0m \u001b[32m━━━━━━━━━━━━━━━━━━━━\u001b[0m\u001b[37m\u001b[0m \u001b[1m1s\u001b[0m 409us/step - loss: 6.4786e-04\n",
            "Epoch 121/200\n",
            "\u001b[1m2000/2000\u001b[0m \u001b[32m━━━━━━━━━━━━━━━━━━━━\u001b[0m\u001b[37m\u001b[0m \u001b[1m1s\u001b[0m 412us/step - loss: 6.6371e-04\n",
            "Epoch 122/200\n",
            "\u001b[1m2000/2000\u001b[0m \u001b[32m━━━━━━━━━━━━━━━━━━━━\u001b[0m\u001b[37m\u001b[0m \u001b[1m1s\u001b[0m 395us/step - loss: 6.8305e-04\n",
            "Epoch 123/200\n",
            "\u001b[1m2000/2000\u001b[0m \u001b[32m━━━━━━━━━━━━━━━━━━━━\u001b[0m\u001b[37m\u001b[0m \u001b[1m1s\u001b[0m 402us/step - loss: 6.7426e-04\n",
            "Epoch 124/200\n",
            "\u001b[1m2000/2000\u001b[0m \u001b[32m━━━━━━━━━━━━━━━━━━━━\u001b[0m\u001b[37m\u001b[0m \u001b[1m1s\u001b[0m 386us/step - loss: 6.7679e-04\n",
            "Epoch 125/200\n",
            "\u001b[1m2000/2000\u001b[0m \u001b[32m━━━━━━━━━━━━━━━━━━━━\u001b[0m\u001b[37m\u001b[0m \u001b[1m1s\u001b[0m 405us/step - loss: 6.6705e-04\n",
            "Epoch 126/200\n",
            "\u001b[1m2000/2000\u001b[0m \u001b[32m━━━━━━━━━━━━━━━━━━━━\u001b[0m\u001b[37m\u001b[0m \u001b[1m1s\u001b[0m 398us/step - loss: 6.7326e-04\n",
            "Epoch 127/200\n",
            "\u001b[1m2000/2000\u001b[0m \u001b[32m━━━━━━━━━━━━━━━━━━━━\u001b[0m\u001b[37m\u001b[0m \u001b[1m1s\u001b[0m 412us/step - loss: 6.6045e-04\n",
            "Epoch 128/200\n",
            "\u001b[1m2000/2000\u001b[0m \u001b[32m━━━━━━━━━━━━━━━━━━━━\u001b[0m\u001b[37m\u001b[0m \u001b[1m1s\u001b[0m 369us/step - loss: 6.5679e-04\n",
            "Epoch 129/200\n",
            "\u001b[1m2000/2000\u001b[0m \u001b[32m━━━━━━━━━━━━━━━━━━━━\u001b[0m\u001b[37m\u001b[0m \u001b[1m1s\u001b[0m 353us/step - loss: 6.6601e-04\n",
            "Epoch 130/200\n",
            "\u001b[1m2000/2000\u001b[0m \u001b[32m━━━━━━━━━━━━━━━━━━━━\u001b[0m\u001b[37m\u001b[0m \u001b[1m1s\u001b[0m 359us/step - loss: 6.5770e-04\n",
            "Epoch 131/200\n",
            "\u001b[1m2000/2000\u001b[0m \u001b[32m━━━━━━━━━━━━━━━━━━━━\u001b[0m\u001b[37m\u001b[0m \u001b[1m1s\u001b[0m 374us/step - loss: 6.5787e-04\n",
            "Epoch 132/200\n",
            "\u001b[1m2000/2000\u001b[0m \u001b[32m━━━━━━━━━━━━━━━━━━━━\u001b[0m\u001b[37m\u001b[0m \u001b[1m1s\u001b[0m 358us/step - loss: 6.5216e-04\n",
            "Epoch 133/200\n",
            "\u001b[1m2000/2000\u001b[0m \u001b[32m━━━━━━━━━━━━━━━━━━━━\u001b[0m\u001b[37m\u001b[0m \u001b[1m1s\u001b[0m 357us/step - loss: 6.6060e-04\n",
            "Epoch 134/200\n",
            "\u001b[1m2000/2000\u001b[0m \u001b[32m━━━━━━━━━━━━━━━━━━━━\u001b[0m\u001b[37m\u001b[0m \u001b[1m1s\u001b[0m 357us/step - loss: 6.5231e-04\n",
            "Epoch 135/200\n",
            "\u001b[1m2000/2000\u001b[0m \u001b[32m━━━━━━━━━━━━━━━━━━━━\u001b[0m\u001b[37m\u001b[0m \u001b[1m1s\u001b[0m 361us/step - loss: 6.4832e-04\n",
            "Epoch 136/200\n",
            "\u001b[1m2000/2000\u001b[0m \u001b[32m━━━━━━━━━━━━━━━━━━━━\u001b[0m\u001b[37m\u001b[0m \u001b[1m1s\u001b[0m 358us/step - loss: 6.7583e-04\n",
            "Epoch 137/200\n",
            "\u001b[1m2000/2000\u001b[0m \u001b[32m━━━━━━━━━━━━━━━━━━━━\u001b[0m\u001b[37m\u001b[0m \u001b[1m1s\u001b[0m 376us/step - loss: 6.8678e-04\n",
            "Epoch 138/200\n",
            "\u001b[1m2000/2000\u001b[0m \u001b[32m━━━━━━━━━━━━━━━━━━━━\u001b[0m\u001b[37m\u001b[0m \u001b[1m1s\u001b[0m 357us/step - loss: 6.7162e-04\n",
            "Epoch 139/200\n",
            "\u001b[1m2000/2000\u001b[0m \u001b[32m━━━━━━━━━━━━━━━━━━━━\u001b[0m\u001b[37m\u001b[0m \u001b[1m1s\u001b[0m 358us/step - loss: 6.5803e-04\n",
            "Epoch 140/200\n",
            "\u001b[1m2000/2000\u001b[0m \u001b[32m━━━━━━━━━━━━━━━━━━━━\u001b[0m\u001b[37m\u001b[0m \u001b[1m1s\u001b[0m 358us/step - loss: 6.6056e-04\n",
            "Epoch 141/200\n",
            "\u001b[1m2000/2000\u001b[0m \u001b[32m━━━━━━━━━━━━━━━━━━━━\u001b[0m\u001b[37m\u001b[0m \u001b[1m1s\u001b[0m 361us/step - loss: 6.7358e-04\n",
            "Epoch 142/200\n",
            "\u001b[1m2000/2000\u001b[0m \u001b[32m━━━━━━━━━━━━━━━━━━━━\u001b[0m\u001b[37m\u001b[0m \u001b[1m1s\u001b[0m 374us/step - loss: 6.4217e-04\n",
            "Epoch 143/200\n",
            "\u001b[1m2000/2000\u001b[0m \u001b[32m━━━━━━━━━━━━━━━━━━━━\u001b[0m\u001b[37m\u001b[0m \u001b[1m1s\u001b[0m 358us/step - loss: 6.6307e-04\n",
            "Epoch 144/200\n",
            "\u001b[1m2000/2000\u001b[0m \u001b[32m━━━━━━━━━━━━━━━━━━━━\u001b[0m\u001b[37m\u001b[0m \u001b[1m1s\u001b[0m 359us/step - loss: 6.7309e-04\n",
            "Epoch 145/200\n",
            "\u001b[1m2000/2000\u001b[0m \u001b[32m━━━━━━━━━━━━━━━━━━━━\u001b[0m\u001b[37m\u001b[0m \u001b[1m1s\u001b[0m 357us/step - loss: 6.6654e-04\n",
            "Epoch 146/200\n",
            "\u001b[1m2000/2000\u001b[0m \u001b[32m━━━━━━━━━━━━━━━━━━━━\u001b[0m\u001b[37m\u001b[0m \u001b[1m1s\u001b[0m 371us/step - loss: 6.3236e-04\n",
            "Epoch 147/200\n",
            "\u001b[1m2000/2000\u001b[0m \u001b[32m━━━━━━━━━━━━━━━━━━━━\u001b[0m\u001b[37m\u001b[0m \u001b[1m1s\u001b[0m 374us/step - loss: 6.4966e-04\n",
            "Epoch 148/200\n",
            "\u001b[1m2000/2000\u001b[0m \u001b[32m━━━━━━━━━━━━━━━━━━━━\u001b[0m\u001b[37m\u001b[0m \u001b[1m1s\u001b[0m 355us/step - loss: 6.4002e-04\n",
            "Epoch 149/200\n",
            "\u001b[1m2000/2000\u001b[0m \u001b[32m━━━━━━━━━━━━━━━━━━━━\u001b[0m\u001b[37m\u001b[0m \u001b[1m1s\u001b[0m 359us/step - loss: 6.4708e-04\n",
            "Epoch 150/200\n",
            "\u001b[1m2000/2000\u001b[0m \u001b[32m━━━━━━━━━━━━━━━━━━━━\u001b[0m\u001b[37m\u001b[0m \u001b[1m1s\u001b[0m 355us/step - loss: 6.6486e-04\n",
            "Epoch 151/200\n",
            "\u001b[1m2000/2000\u001b[0m \u001b[32m━━━━━━━━━━━━━━━━━━━━\u001b[0m\u001b[37m\u001b[0m \u001b[1m1s\u001b[0m 355us/step - loss: 6.4515e-04\n",
            "Epoch 152/200\n",
            "\u001b[1m2000/2000\u001b[0m \u001b[32m━━━━━━━━━━━━━━━━━━━━\u001b[0m\u001b[37m\u001b[0m \u001b[1m1s\u001b[0m 378us/step - loss: 6.3849e-04\n",
            "Epoch 153/200\n",
            "\u001b[1m2000/2000\u001b[0m \u001b[32m━━━━━━━━━━━━━━━━━━━━\u001b[0m\u001b[37m\u001b[0m \u001b[1m1s\u001b[0m 359us/step - loss: 6.5491e-04\n",
            "Epoch 154/200\n",
            "\u001b[1m2000/2000\u001b[0m \u001b[32m━━━━━━━━━━━━━━━━━━━━\u001b[0m\u001b[37m\u001b[0m \u001b[1m1s\u001b[0m 362us/step - loss: 6.5911e-04\n",
            "Epoch 155/200\n",
            "\u001b[1m2000/2000\u001b[0m \u001b[32m━━━━━━━━━━━━━━━━━━━━\u001b[0m\u001b[37m\u001b[0m \u001b[1m1s\u001b[0m 355us/step - loss: 6.3775e-04\n",
            "Epoch 156/200\n",
            "\u001b[1m2000/2000\u001b[0m \u001b[32m━━━━━━━━━━━━━━━━━━━━\u001b[0m\u001b[37m\u001b[0m \u001b[1m1s\u001b[0m 378us/step - loss: 6.4792e-04\n",
            "Epoch 157/200\n",
            "\u001b[1m2000/2000\u001b[0m \u001b[32m━━━━━━━━━━━━━━━━━━━━\u001b[0m\u001b[37m\u001b[0m \u001b[1m1s\u001b[0m 411us/step - loss: 6.3701e-04\n",
            "Epoch 158/200\n",
            "\u001b[1m2000/2000\u001b[0m \u001b[32m━━━━━━━━━━━━━━━━━━━━\u001b[0m\u001b[37m\u001b[0m \u001b[1m1s\u001b[0m 407us/step - loss: 6.6493e-04\n",
            "Epoch 159/200\n",
            "\u001b[1m2000/2000\u001b[0m \u001b[32m━━━━━━━━━━━━━━━━━━━━\u001b[0m\u001b[37m\u001b[0m \u001b[1m1s\u001b[0m 374us/step - loss: 6.6934e-04\n",
            "Epoch 160/200\n",
            "\u001b[1m2000/2000\u001b[0m \u001b[32m━━━━━━━━━━━━━━━━━━━━\u001b[0m\u001b[37m\u001b[0m \u001b[1m1s\u001b[0m 371us/step - loss: 6.3182e-04\n",
            "Epoch 161/200\n",
            "\u001b[1m2000/2000\u001b[0m \u001b[32m━━━━━━━━━━━━━━━━━━━━\u001b[0m\u001b[37m\u001b[0m \u001b[1m1s\u001b[0m 414us/step - loss: 6.4902e-04\n",
            "Epoch 162/200\n",
            "\u001b[1m2000/2000\u001b[0m \u001b[32m━━━━━━━━━━━━━━━━━━━━\u001b[0m\u001b[37m\u001b[0m \u001b[1m1s\u001b[0m 372us/step - loss: 6.4534e-04\n",
            "Epoch 163/200\n",
            "\u001b[1m2000/2000\u001b[0m \u001b[32m━━━━━━━━━━━━━━━━━━━━\u001b[0m\u001b[37m\u001b[0m \u001b[1m1s\u001b[0m 371us/step - loss: 6.3538e-04\n",
            "Epoch 164/200\n",
            "\u001b[1m2000/2000\u001b[0m \u001b[32m━━━━━━━━━━━━━━━━━━━━\u001b[0m\u001b[37m\u001b[0m \u001b[1m1s\u001b[0m 387us/step - loss: 6.4851e-04\n",
            "Epoch 165/200\n",
            "\u001b[1m2000/2000\u001b[0m \u001b[32m━━━━━━━━━━━━━━━━━━━━\u001b[0m\u001b[37m\u001b[0m \u001b[1m1s\u001b[0m 372us/step - loss: 6.3989e-04\n",
            "Epoch 166/200\n",
            "\u001b[1m2000/2000\u001b[0m \u001b[32m━━━━━━━━━━━━━━━━━━━━\u001b[0m\u001b[37m\u001b[0m \u001b[1m1s\u001b[0m 375us/step - loss: 6.5767e-04\n",
            "Epoch 167/200\n",
            "\u001b[1m2000/2000\u001b[0m \u001b[32m━━━━━━━━━━━━━━━━━━━━\u001b[0m\u001b[37m\u001b[0m \u001b[1m1s\u001b[0m 390us/step - loss: 6.3679e-04\n",
            "Epoch 168/200\n",
            "\u001b[1m2000/2000\u001b[0m \u001b[32m━━━━━━━━━━━━━━━━━━━━\u001b[0m\u001b[37m\u001b[0m \u001b[1m1s\u001b[0m 403us/step - loss: 6.4330e-04\n",
            "Epoch 169/200\n",
            "\u001b[1m2000/2000\u001b[0m \u001b[32m━━━━━━━━━━━━━━━━━━━━\u001b[0m\u001b[37m\u001b[0m \u001b[1m1s\u001b[0m 371us/step - loss: 6.4108e-04\n",
            "Epoch 170/200\n",
            "\u001b[1m2000/2000\u001b[0m \u001b[32m━━━━━━━━━━━━━━━━━━━━\u001b[0m\u001b[37m\u001b[0m \u001b[1m1s\u001b[0m 364us/step - loss: 6.3400e-04\n",
            "Epoch 171/200\n",
            "\u001b[1m2000/2000\u001b[0m \u001b[32m━━━━━━━━━━━━━━━━━━━━\u001b[0m\u001b[37m\u001b[0m \u001b[1m1s\u001b[0m 387us/step - loss: 6.2874e-04\n",
            "Epoch 172/200\n",
            "\u001b[1m2000/2000\u001b[0m \u001b[32m━━━━━━━━━━━━━━━━━━━━\u001b[0m\u001b[37m\u001b[0m \u001b[1m1s\u001b[0m 365us/step - loss: 6.3799e-04\n",
            "Epoch 173/200\n",
            "\u001b[1m2000/2000\u001b[0m \u001b[32m━━━━━━━━━━━━━━━━━━━━\u001b[0m\u001b[37m\u001b[0m \u001b[1m1s\u001b[0m 370us/step - loss: 6.3682e-04\n",
            "Epoch 174/200\n",
            "\u001b[1m2000/2000\u001b[0m \u001b[32m━━━━━━━━━━━━━━━━━━━━\u001b[0m\u001b[37m\u001b[0m \u001b[1m1s\u001b[0m 363us/step - loss: 6.4698e-04\n",
            "Epoch 175/200\n",
            "\u001b[1m2000/2000\u001b[0m \u001b[32m━━━━━━━━━━━━━━━━━━━━\u001b[0m\u001b[37m\u001b[0m \u001b[1m1s\u001b[0m 391us/step - loss: 6.4522e-04\n",
            "Epoch 176/200\n",
            "\u001b[1m2000/2000\u001b[0m \u001b[32m━━━━━━━━━━━━━━━━━━━━\u001b[0m\u001b[37m\u001b[0m \u001b[1m1s\u001b[0m 367us/step - loss: 6.3220e-04\n",
            "Epoch 177/200\n",
            "\u001b[1m2000/2000\u001b[0m \u001b[32m━━━━━━━━━━━━━━━━━━━━\u001b[0m\u001b[37m\u001b[0m \u001b[1m1s\u001b[0m 373us/step - loss: 6.3282e-04\n",
            "Epoch 178/200\n",
            "\u001b[1m2000/2000\u001b[0m \u001b[32m━━━━━━━━━━━━━━━━━━━━\u001b[0m\u001b[37m\u001b[0m \u001b[1m1s\u001b[0m 385us/step - loss: 6.6601e-04\n",
            "Epoch 179/200\n",
            "\u001b[1m2000/2000\u001b[0m \u001b[32m━━━━━━━━━━━━━━━━━━━━\u001b[0m\u001b[37m\u001b[0m \u001b[1m1s\u001b[0m 369us/step - loss: 6.5528e-04\n",
            "Epoch 180/200\n",
            "\u001b[1m2000/2000\u001b[0m \u001b[32m━━━━━━━━━━━━━━━━━━━━\u001b[0m\u001b[37m\u001b[0m \u001b[1m1s\u001b[0m 366us/step - loss: 6.3559e-04\n",
            "Epoch 181/200\n",
            "\u001b[1m2000/2000\u001b[0m \u001b[32m━━━━━━━━━━━━━━━━━━━━\u001b[0m\u001b[37m\u001b[0m \u001b[1m1s\u001b[0m 368us/step - loss: 6.5341e-04\n",
            "Epoch 182/200\n",
            "\u001b[1m2000/2000\u001b[0m \u001b[32m━━━━━━━━━━━━━━━━━━━━\u001b[0m\u001b[37m\u001b[0m \u001b[1m1s\u001b[0m 389us/step - loss: 6.5940e-04\n",
            "Epoch 183/200\n",
            "\u001b[1m2000/2000\u001b[0m \u001b[32m━━━━━━━━━━━━━━━━━━━━\u001b[0m\u001b[37m\u001b[0m \u001b[1m1s\u001b[0m 363us/step - loss: 6.4594e-04\n",
            "Epoch 184/200\n",
            "\u001b[1m2000/2000\u001b[0m \u001b[32m━━━━━━━━━━━━━━━━━━━━\u001b[0m\u001b[37m\u001b[0m \u001b[1m1s\u001b[0m 375us/step - loss: 6.3372e-04\n",
            "Epoch 185/200\n",
            "\u001b[1m2000/2000\u001b[0m \u001b[32m━━━━━━━━━━━━━━━━━━━━\u001b[0m\u001b[37m\u001b[0m \u001b[1m1s\u001b[0m 388us/step - loss: 6.4870e-04\n",
            "Epoch 186/200\n",
            "\u001b[1m2000/2000\u001b[0m \u001b[32m━━━━━━━━━━━━━━━━━━━━\u001b[0m\u001b[37m\u001b[0m \u001b[1m1s\u001b[0m 369us/step - loss: 6.4239e-04\n",
            "Epoch 187/200\n",
            "\u001b[1m2000/2000\u001b[0m \u001b[32m━━━━━━━━━━━━━━━━━━━━\u001b[0m\u001b[37m\u001b[0m \u001b[1m1s\u001b[0m 365us/step - loss: 6.2822e-04\n",
            "Epoch 188/200\n",
            "\u001b[1m2000/2000\u001b[0m \u001b[32m━━━━━━━━━━━━━━━━━━━━\u001b[0m\u001b[37m\u001b[0m \u001b[1m1s\u001b[0m 370us/step - loss: 6.6007e-04\n",
            "Epoch 189/200\n",
            "\u001b[1m2000/2000\u001b[0m \u001b[32m━━━━━━━━━━━━━━━━━━━━\u001b[0m\u001b[37m\u001b[0m \u001b[1m1s\u001b[0m 386us/step - loss: 6.3190e-04\n",
            "Epoch 190/200\n",
            "\u001b[1m2000/2000\u001b[0m \u001b[32m━━━━━━━━━━━━━━━━━━━━\u001b[0m\u001b[37m\u001b[0m \u001b[1m1s\u001b[0m 371us/step - loss: 6.3478e-04\n",
            "Epoch 191/200\n",
            "\u001b[1m2000/2000\u001b[0m \u001b[32m━━━━━━━━━━━━━━━━━━━━\u001b[0m\u001b[37m\u001b[0m \u001b[1m1s\u001b[0m 366us/step - loss: 6.5311e-04\n",
            "Epoch 192/200\n",
            "\u001b[1m2000/2000\u001b[0m \u001b[32m━━━━━━━━━━━━━━━━━━━━\u001b[0m\u001b[37m\u001b[0m \u001b[1m1s\u001b[0m 385us/step - loss: 6.3576e-04\n",
            "Epoch 193/200\n",
            "\u001b[1m2000/2000\u001b[0m \u001b[32m━━━━━━━━━━━━━━━━━━━━\u001b[0m\u001b[37m\u001b[0m \u001b[1m1s\u001b[0m 369us/step - loss: 6.3979e-04\n",
            "Epoch 194/200\n",
            "\u001b[1m2000/2000\u001b[0m \u001b[32m━━━━━━━━━━━━━━━━━━━━\u001b[0m\u001b[37m\u001b[0m \u001b[1m1s\u001b[0m 366us/step - loss: 6.2733e-04\n",
            "Epoch 195/200\n",
            "\u001b[1m2000/2000\u001b[0m \u001b[32m━━━━━━━━━━━━━━━━━━━━\u001b[0m\u001b[37m\u001b[0m \u001b[1m1s\u001b[0m 370us/step - loss: 6.4891e-04\n",
            "Epoch 196/200\n",
            "\u001b[1m2000/2000\u001b[0m \u001b[32m━━━━━━━━━━━━━━━━━━━━\u001b[0m\u001b[37m\u001b[0m \u001b[1m1s\u001b[0m 388us/step - loss: 6.3841e-04\n",
            "Epoch 197/200\n",
            "\u001b[1m2000/2000\u001b[0m \u001b[32m━━━━━━━━━━━━━━━━━━━━\u001b[0m\u001b[37m\u001b[0m \u001b[1m1s\u001b[0m 368us/step - loss: 6.3881e-04\n",
            "Epoch 198/200\n",
            "\u001b[1m2000/2000\u001b[0m \u001b[32m━━━━━━━━━━━━━━━━━━━━\u001b[0m\u001b[37m\u001b[0m \u001b[1m1s\u001b[0m 367us/step - loss: 6.5146e-04\n",
            "Epoch 199/200\n",
            "\u001b[1m2000/2000\u001b[0m \u001b[32m━━━━━━━━━━━━━━━━━━━━\u001b[0m\u001b[37m\u001b[0m \u001b[1m1s\u001b[0m 389us/step - loss: 6.2583e-04\n",
            "Epoch 200/200\n",
            "\u001b[1m2000/2000\u001b[0m \u001b[32m━━━━━━━━━━━━━━━━━━━━\u001b[0m\u001b[37m\u001b[0m \u001b[1m1s\u001b[0m 365us/step - loss: 6.3168e-04\n",
            "\u001b[1m500/500\u001b[0m \u001b[32m━━━━━━━━━━━━━━━━━━━━\u001b[0m\u001b[37m\u001b[0m \u001b[1m0s\u001b[0m 261us/step\n",
            "LSTM Model Test Set Metrics:\n",
            "Mean Squared Error (MSE): 0.00063372786222023\n",
            "Mean Absolute Error (MAE): 0.014345034857436816\n",
            "R-squared (R²): 0.9793958197243615\n"
          ]
        }
      ],
      "source": [
        "lstm_model = Sequential()\n",
        "lstm_model.add(LSTM(50, activation = 'relu', input_shape = (1, X_train.shape[2])))\n",
        "lstm_model.add(Dense(1))\n",
        "lstm_model.compile(optimizer = 'adam', loss = 'mse')\n",
        "\n",
        "lstm_model.fit(X_train, y_train, epochs = 200, verbose = 1)\n",
        "\n",
        "y_test_pred = lstm_model.predict(X_test)\n",
        "\n",
        "# Evaluate the model on the test set\n",
        "print(\"LSTM Model Test Set Metrics:\")\n",
        "print(\"Mean Squared Error (MSE):\", mean_squared_error(y_test, y_test_pred))\n",
        "print(\"Mean Absolute Error (MAE):\", mean_absolute_error(y_test, y_test_pred))\n",
        "print(\"R-squared (R²):\", r2_score(y_test, y_test_pred))"
      ]
    },
    {
      "cell_type": "code",
      "execution_count": 52,
      "metadata": {},
      "outputs": [
        {
          "name": "stdout",
          "output_type": "stream",
          "text": [
            "X_train shape: (64000, 1, 14)\n",
            "X_test shape: (16000, 1, 14)\n",
            "y_train shape: (64000,)\n",
            "y_test shape: (16000,)\n"
          ]
        }
      ],
      "source": [
        "print(\"X_train shape:\", X_train.shape)\n",
        "print(\"X_test shape:\", X_test.shape)\n",
        "print(\"y_train shape:\", y_train.shape)\n",
        "print(\"y_test shape:\", y_test.shape)\n"
      ]
    },
    {
      "cell_type": "code",
      "execution_count": null,
      "metadata": {},
      "outputs": [],
      "source": []
    }
  ],
  "metadata": {
    "colab": {
      "provenance": []
    },
    "kernelspec": {
      "display_name": "mlops_env",
      "language": "python",
      "name": "python3"
    },
    "language_info": {
      "codemirror_mode": {
        "name": "ipython",
        "version": 3
      },
      "file_extension": ".py",
      "mimetype": "text/x-python",
      "name": "python",
      "nbconvert_exporter": "python",
      "pygments_lexer": "ipython3",
      "version": "3.11.5"
    }
  },
  "nbformat": 4,
  "nbformat_minor": 0
}
