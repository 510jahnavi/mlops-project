{
 "cells": [
  {
   "cell_type": "code",
   "execution_count": 6,
   "metadata": {},
   "outputs": [],
   "source": [
    "import pickle\n",
    "\n",
    "with open('xgboost_model_2024-11-12_23-47-17.pkl', 'rb') as file:\n",
    "    model = pickle.load(file)"
   ]
  },
  {
   "cell_type": "code",
   "execution_count": 13,
   "metadata": {},
   "outputs": [
    {
     "name": "stdout",
     "output_type": "stream",
     "text": [
      "Model and training date saved: 2022-12-31 00:00:00\n"
     ]
    }
   ],
   "source": [
    "import pickle\n",
    "from datetime import datetime\n",
    "import xgboost as xgb\n",
    "\n",
    "# The date when the model was trained\n",
    "dataset_date = datetime.now().strftime('%Y-%m-%d %H:%M:%S')  # You can use any format you prefer\n",
    "date_string = \"2022-12-31\"\n",
    "dataset_date = datetime.strptime(date_string, '%Y-%m-%d')\n",
    "\n",
    "# Store the model and the date in a dictionary\n",
    "model_data = {\n",
    "    'model': model,\n",
    "    'dataset_date': dataset_date\n",
    "}\n",
    "\n",
    "# Save the model and date to a .pkl file\n",
    "with open('xgboost_model_with_date.pkl', 'wb') as file:\n",
    "    pickle.dump(model_data, file)\n",
    "\n",
    "print(f\"Model and training date saved: {dataset_date}\")"
   ]
  },
  {
   "cell_type": "code",
   "execution_count": null,
   "metadata": {},
   "outputs": [],
   "source": []
  },
  {
   "cell_type": "code",
   "execution_count": 17,
   "metadata": {},
   "outputs": [
    {
     "name": "stdout",
     "output_type": "stream",
     "text": [
      "Model loaded, trained on: 2024-11-04 00:00:00\n"
     ]
    }
   ],
   "source": [
    "# Load the model and the training date from the .pkl file\n",
    "with open('lr_model_2024-11-13_19-06-19.pkl', 'rb') as file:\n",
    "    model_data = pickle.load(file)\n",
    "\n",
    "# Extract the model and the training date\n",
    "model = model_data['model']\n",
    "training_date = model_data['dataset_date']\n",
    "\n",
    "# Print the extracted information\n",
    "print(f\"Model loaded, trained on: {training_date}\")"
   ]
  },
  {
   "cell_type": "code",
   "execution_count": 10,
   "metadata": {},
   "outputs": [],
   "source": [
    "date_string = \"2022-12-31\"\n",
    "date_object = datetime.strptime(date_string, '%Y-%m-%d')"
   ]
  },
  {
   "cell_type": "code",
   "execution_count": 11,
   "metadata": {},
   "outputs": [
    {
     "data": {
      "text/plain": [
       "datetime.datetime(2022, 12, 31, 0, 0)"
      ]
     },
     "execution_count": 11,
     "metadata": {},
     "output_type": "execute_result"
    }
   ],
   "source": [
    "date_object"
   ]
  },
  {
   "cell_type": "code",
   "execution_count": 16,
   "metadata": {},
   "outputs": [
    {
     "name": "stderr",
     "output_type": "stream",
     "text": [
      "C:\\Users\\rajat\\AppData\\Local\\Temp\\ipykernel_31292\\431598647.py:7: DtypeWarning: Columns (31) have mixed types. Specify dtype option on import or set low_memory=False.\n",
      "  X_train = pd.read_csv(\"data_preprocess.csv\")\n"
     ]
    },
    {
     "name": "stdout",
     "output_type": "stream",
     "text": [
      "Columns in X_train: Index(['datetime', 'precipMM', 'weatherCode', 'visibility', 'HeatIndexF',\n",
      "       'WindChillF', 'windspeedMiles', 'FeelsLikeF', 'tempF_rolling_mean',\n",
      "       'windspeedMiles_rolling_mean', 'humidity_rolling_mean', 'value',\n",
      "       'pressure', 'pressureInches', 'cloudcover', 'uvIndex',\n",
      "       'tempF_rolling_std', 'windspeedMiles_rolling_std',\n",
      "       'humidity_rolling_std', 'tempF_lag_2', 'windspeedMiles_lag_2',\n",
      "       'humidity_lag_2', 'tempF_lag_4', 'windspeedMiles_lag_4',\n",
      "       'humidity_lag_4', 'tempF_lag_6', 'windspeedMiles_lag_6',\n",
      "       'humidity_lag_6', 'month_sin', 'month_cos', 'subba-name', 'zone'],\n",
      "      dtype='object')\n",
      "The latest date is: 2024-11-04 00:00:00\n"
     ]
    }
   ],
   "source": [
    "import pandas as pd\n",
    "\n",
    "# Example data (replace this with your actual X_train DataFrame)\n",
    "data = {\n",
    "    'datetime': ['2024-11-01', '2024-11-12', '2024-10-30', '2024-11-05']\n",
    "}\n",
    "X_train = pd.read_csv(\"data_preprocess.csv\")\n",
    "\n",
    "# Check column names to ensure 'datetime' exists\n",
    "print(\"Columns in X_train:\", X_train.columns)\n",
    "\n",
    "# Convert 'datetime' column to datetime objects\n",
    "X_train['datetime'] = pd.to_datetime(X_train['datetime'])\n",
    "\n",
    "# Get the latest date (max date)\n",
    "latest_date = X_train['datetime'].max()\n",
    "\n",
    "# Print the latest date\n",
    "print(f\"The latest date is: {latest_date}\")\n"
   ]
  },
  {
   "cell_type": "code",
   "execution_count": null,
   "metadata": {},
   "outputs": [],
   "source": []
  }
 ],
 "metadata": {
  "kernelspec": {
   "display_name": "mlops-3.10",
   "language": "python",
   "name": "python3"
  },
  "language_info": {
   "codemirror_mode": {
    "name": "ipython",
    "version": 3
   },
   "file_extension": ".py",
   "mimetype": "text/x-python",
   "name": "python",
   "nbconvert_exporter": "python",
   "pygments_lexer": "ipython3",
   "version": "3.10.15"
  }
 },
 "nbformat": 4,
 "nbformat_minor": 2
}
